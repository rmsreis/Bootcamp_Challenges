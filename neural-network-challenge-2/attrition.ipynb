{
  "cells": [
    {
      "cell_type": "markdown",
      "metadata": {
        "id": "alIIEHibGc3M"
      },
      "source": [
        "## Part 1: Preprocessing"
      ]
    },
    {
      "cell_type": "code",
      "execution_count": 1,
      "metadata": {},
      "outputs": [],
      "source": [
        "# Import our dependencies\n",
        "from sklearn.model_selection import train_test_split\n",
        "from sklearn.preprocessing import StandardScaler\n",
        "import pandas as pd\n",
        "import numpy as np\n",
        "from tensorflow.keras.models import Model\n",
        "from tensorflow.keras import layers"
      ]
    },
    {
      "cell_type": "code",
      "execution_count": 2,
      "metadata": {
        "colab": {
          "base_uri": "https://localhost:8080/",
          "height": 325
        },
        "id": "6eDUJ4NtGc3P",
        "outputId": "2480098c-135c-4cbf-9552-018494ee8ff5"
      },
      "outputs": [
        {
          "data": {
            "text/html": [
              "<div>\n",
              "<style scoped>\n",
              "    .dataframe tbody tr th:only-of-type {\n",
              "        vertical-align: middle;\n",
              "    }\n",
              "\n",
              "    .dataframe tbody tr th {\n",
              "        vertical-align: top;\n",
              "    }\n",
              "\n",
              "    .dataframe thead th {\n",
              "        text-align: right;\n",
              "    }\n",
              "</style>\n",
              "<table border=\"1\" class=\"dataframe\">\n",
              "  <thead>\n",
              "    <tr style=\"text-align: right;\">\n",
              "      <th></th>\n",
              "      <th>Age</th>\n",
              "      <th>Attrition</th>\n",
              "      <th>BusinessTravel</th>\n",
              "      <th>Department</th>\n",
              "      <th>DistanceFromHome</th>\n",
              "      <th>Education</th>\n",
              "      <th>EducationField</th>\n",
              "      <th>EnvironmentSatisfaction</th>\n",
              "      <th>HourlyRate</th>\n",
              "      <th>JobInvolvement</th>\n",
              "      <th>...</th>\n",
              "      <th>PerformanceRating</th>\n",
              "      <th>RelationshipSatisfaction</th>\n",
              "      <th>StockOptionLevel</th>\n",
              "      <th>TotalWorkingYears</th>\n",
              "      <th>TrainingTimesLastYear</th>\n",
              "      <th>WorkLifeBalance</th>\n",
              "      <th>YearsAtCompany</th>\n",
              "      <th>YearsInCurrentRole</th>\n",
              "      <th>YearsSinceLastPromotion</th>\n",
              "      <th>YearsWithCurrManager</th>\n",
              "    </tr>\n",
              "  </thead>\n",
              "  <tbody>\n",
              "    <tr>\n",
              "      <th>0</th>\n",
              "      <td>41</td>\n",
              "      <td>Yes</td>\n",
              "      <td>Travel_Rarely</td>\n",
              "      <td>Sales</td>\n",
              "      <td>1</td>\n",
              "      <td>2</td>\n",
              "      <td>Life Sciences</td>\n",
              "      <td>2</td>\n",
              "      <td>94</td>\n",
              "      <td>3</td>\n",
              "      <td>...</td>\n",
              "      <td>3</td>\n",
              "      <td>1</td>\n",
              "      <td>0</td>\n",
              "      <td>8</td>\n",
              "      <td>0</td>\n",
              "      <td>1</td>\n",
              "      <td>6</td>\n",
              "      <td>4</td>\n",
              "      <td>0</td>\n",
              "      <td>5</td>\n",
              "    </tr>\n",
              "    <tr>\n",
              "      <th>1</th>\n",
              "      <td>49</td>\n",
              "      <td>No</td>\n",
              "      <td>Travel_Frequently</td>\n",
              "      <td>Research &amp; Development</td>\n",
              "      <td>8</td>\n",
              "      <td>1</td>\n",
              "      <td>Life Sciences</td>\n",
              "      <td>3</td>\n",
              "      <td>61</td>\n",
              "      <td>2</td>\n",
              "      <td>...</td>\n",
              "      <td>4</td>\n",
              "      <td>4</td>\n",
              "      <td>1</td>\n",
              "      <td>10</td>\n",
              "      <td>3</td>\n",
              "      <td>3</td>\n",
              "      <td>10</td>\n",
              "      <td>7</td>\n",
              "      <td>1</td>\n",
              "      <td>7</td>\n",
              "    </tr>\n",
              "    <tr>\n",
              "      <th>2</th>\n",
              "      <td>37</td>\n",
              "      <td>Yes</td>\n",
              "      <td>Travel_Rarely</td>\n",
              "      <td>Research &amp; Development</td>\n",
              "      <td>2</td>\n",
              "      <td>2</td>\n",
              "      <td>Other</td>\n",
              "      <td>4</td>\n",
              "      <td>92</td>\n",
              "      <td>2</td>\n",
              "      <td>...</td>\n",
              "      <td>3</td>\n",
              "      <td>2</td>\n",
              "      <td>0</td>\n",
              "      <td>7</td>\n",
              "      <td>3</td>\n",
              "      <td>3</td>\n",
              "      <td>0</td>\n",
              "      <td>0</td>\n",
              "      <td>0</td>\n",
              "      <td>0</td>\n",
              "    </tr>\n",
              "    <tr>\n",
              "      <th>3</th>\n",
              "      <td>33</td>\n",
              "      <td>No</td>\n",
              "      <td>Travel_Frequently</td>\n",
              "      <td>Research &amp; Development</td>\n",
              "      <td>3</td>\n",
              "      <td>4</td>\n",
              "      <td>Life Sciences</td>\n",
              "      <td>4</td>\n",
              "      <td>56</td>\n",
              "      <td>3</td>\n",
              "      <td>...</td>\n",
              "      <td>3</td>\n",
              "      <td>3</td>\n",
              "      <td>0</td>\n",
              "      <td>8</td>\n",
              "      <td>3</td>\n",
              "      <td>3</td>\n",
              "      <td>8</td>\n",
              "      <td>7</td>\n",
              "      <td>3</td>\n",
              "      <td>0</td>\n",
              "    </tr>\n",
              "    <tr>\n",
              "      <th>4</th>\n",
              "      <td>27</td>\n",
              "      <td>No</td>\n",
              "      <td>Travel_Rarely</td>\n",
              "      <td>Research &amp; Development</td>\n",
              "      <td>2</td>\n",
              "      <td>1</td>\n",
              "      <td>Medical</td>\n",
              "      <td>1</td>\n",
              "      <td>40</td>\n",
              "      <td>3</td>\n",
              "      <td>...</td>\n",
              "      <td>3</td>\n",
              "      <td>4</td>\n",
              "      <td>1</td>\n",
              "      <td>6</td>\n",
              "      <td>3</td>\n",
              "      <td>3</td>\n",
              "      <td>2</td>\n",
              "      <td>2</td>\n",
              "      <td>2</td>\n",
              "      <td>2</td>\n",
              "    </tr>\n",
              "  </tbody>\n",
              "</table>\n",
              "<p>5 rows × 27 columns</p>\n",
              "</div>"
            ],
            "text/plain": [
              "   Age Attrition     BusinessTravel              Department  DistanceFromHome  \\\n",
              "0   41       Yes      Travel_Rarely                   Sales                 1   \n",
              "1   49        No  Travel_Frequently  Research & Development                 8   \n",
              "2   37       Yes      Travel_Rarely  Research & Development                 2   \n",
              "3   33        No  Travel_Frequently  Research & Development                 3   \n",
              "4   27        No      Travel_Rarely  Research & Development                 2   \n",
              "\n",
              "   Education EducationField  EnvironmentSatisfaction  HourlyRate  \\\n",
              "0          2  Life Sciences                        2          94   \n",
              "1          1  Life Sciences                        3          61   \n",
              "2          2          Other                        4          92   \n",
              "3          4  Life Sciences                        4          56   \n",
              "4          1        Medical                        1          40   \n",
              "\n",
              "   JobInvolvement  ...  PerformanceRating RelationshipSatisfaction  \\\n",
              "0               3  ...                  3                        1   \n",
              "1               2  ...                  4                        4   \n",
              "2               2  ...                  3                        2   \n",
              "3               3  ...                  3                        3   \n",
              "4               3  ...                  3                        4   \n",
              "\n",
              "   StockOptionLevel TotalWorkingYears  TrainingTimesLastYear WorkLifeBalance  \\\n",
              "0                 0                 8                      0               1   \n",
              "1                 1                10                      3               3   \n",
              "2                 0                 7                      3               3   \n",
              "3                 0                 8                      3               3   \n",
              "4                 1                 6                      3               3   \n",
              "\n",
              "   YearsAtCompany  YearsInCurrentRole  YearsSinceLastPromotion  \\\n",
              "0               6                   4                        0   \n",
              "1              10                   7                        1   \n",
              "2               0                   0                        0   \n",
              "3               8                   7                        3   \n",
              "4               2                   2                        2   \n",
              "\n",
              "   YearsWithCurrManager  \n",
              "0                     5  \n",
              "1                     7  \n",
              "2                     0  \n",
              "3                     0  \n",
              "4                     2  \n",
              "\n",
              "[5 rows x 27 columns]"
            ]
          },
          "execution_count": 2,
          "metadata": {},
          "output_type": "execute_result"
        }
      ],
      "source": [
        "#  Import and read the attrition data\n",
        "attrition_df = pd.read_csv('https://static.bc-edx.com/ai/ail-v-1-0/m19/lms/datasets/attrition.csv')\n",
        "attrition_df.head()"
      ]
    },
    {
      "cell_type": "code",
      "execution_count": 3,
      "metadata": {
        "colab": {
          "base_uri": "https://localhost:8080/"
        },
        "id": "g22aQSY4Gc3Q",
        "outputId": "1f5c13c1-b981-4e40-a7ed-dd3fe6f1b81e"
      },
      "outputs": [
        {
          "data": {
            "text/plain": [
              "Age                         43\n",
              "Attrition                    2\n",
              "BusinessTravel               3\n",
              "Department                   3\n",
              "DistanceFromHome            29\n",
              "Education                    5\n",
              "EducationField               6\n",
              "EnvironmentSatisfaction      4\n",
              "HourlyRate                  71\n",
              "JobInvolvement               4\n",
              "JobLevel                     5\n",
              "JobRole                      9\n",
              "JobSatisfaction              4\n",
              "MaritalStatus                3\n",
              "NumCompaniesWorked          10\n",
              "OverTime                     2\n",
              "PercentSalaryHike           15\n",
              "PerformanceRating            2\n",
              "RelationshipSatisfaction     4\n",
              "StockOptionLevel             4\n",
              "TotalWorkingYears           40\n",
              "TrainingTimesLastYear        7\n",
              "WorkLifeBalance              4\n",
              "YearsAtCompany              37\n",
              "YearsInCurrentRole          19\n",
              "YearsSinceLastPromotion     16\n",
              "YearsWithCurrManager        18\n",
              "dtype: int64"
            ]
          },
          "execution_count": 3,
          "metadata": {},
          "output_type": "execute_result"
        }
      ],
      "source": [
        "# Determine the number of unique values in each column.\n",
        "attrition_df.nunique()"
      ]
    },
    {
      "cell_type": "code",
      "execution_count": 4,
      "metadata": {
        "id": "50vMgBEnJbfM"
      },
      "outputs": [
        {
          "data": {
            "text/html": [
              "<div>\n",
              "<style scoped>\n",
              "    .dataframe tbody tr th:only-of-type {\n",
              "        vertical-align: middle;\n",
              "    }\n",
              "\n",
              "    .dataframe tbody tr th {\n",
              "        vertical-align: top;\n",
              "    }\n",
              "\n",
              "    .dataframe thead th {\n",
              "        text-align: right;\n",
              "    }\n",
              "</style>\n",
              "<table border=\"1\" class=\"dataframe\">\n",
              "  <thead>\n",
              "    <tr style=\"text-align: right;\">\n",
              "      <th></th>\n",
              "      <th>Attrition</th>\n",
              "      <th>Department</th>\n",
              "    </tr>\n",
              "  </thead>\n",
              "  <tbody>\n",
              "    <tr>\n",
              "      <th>0</th>\n",
              "      <td>Yes</td>\n",
              "      <td>Sales</td>\n",
              "    </tr>\n",
              "    <tr>\n",
              "      <th>1</th>\n",
              "      <td>No</td>\n",
              "      <td>Research &amp; Development</td>\n",
              "    </tr>\n",
              "    <tr>\n",
              "      <th>2</th>\n",
              "      <td>Yes</td>\n",
              "      <td>Research &amp; Development</td>\n",
              "    </tr>\n",
              "    <tr>\n",
              "      <th>3</th>\n",
              "      <td>No</td>\n",
              "      <td>Research &amp; Development</td>\n",
              "    </tr>\n",
              "    <tr>\n",
              "      <th>4</th>\n",
              "      <td>No</td>\n",
              "      <td>Research &amp; Development</td>\n",
              "    </tr>\n",
              "    <tr>\n",
              "      <th>5</th>\n",
              "      <td>No</td>\n",
              "      <td>Research &amp; Development</td>\n",
              "    </tr>\n",
              "    <tr>\n",
              "      <th>6</th>\n",
              "      <td>No</td>\n",
              "      <td>Research &amp; Development</td>\n",
              "    </tr>\n",
              "    <tr>\n",
              "      <th>7</th>\n",
              "      <td>No</td>\n",
              "      <td>Research &amp; Development</td>\n",
              "    </tr>\n",
              "    <tr>\n",
              "      <th>8</th>\n",
              "      <td>No</td>\n",
              "      <td>Research &amp; Development</td>\n",
              "    </tr>\n",
              "    <tr>\n",
              "      <th>9</th>\n",
              "      <td>No</td>\n",
              "      <td>Research &amp; Development</td>\n",
              "    </tr>\n",
              "  </tbody>\n",
              "</table>\n",
              "</div>"
            ],
            "text/plain": [
              "  Attrition              Department\n",
              "0       Yes                   Sales\n",
              "1        No  Research & Development\n",
              "2       Yes  Research & Development\n",
              "3        No  Research & Development\n",
              "4        No  Research & Development\n",
              "5        No  Research & Development\n",
              "6        No  Research & Development\n",
              "7        No  Research & Development\n",
              "8        No  Research & Development\n",
              "9        No  Research & Development"
            ]
          },
          "execution_count": 4,
          "metadata": {},
          "output_type": "execute_result"
        }
      ],
      "source": [
        "# Create y_df with the Attrition and Department columns\n",
        "y_df = attrition_df[['Attrition', 'Department']]\n",
        "y_df.head(10)"
      ]
    },
    {
      "cell_type": "code",
      "execution_count": 5,
      "metadata": {
        "colab": {
          "base_uri": "https://localhost:8080/"
        },
        "id": "Virka0zLGc3R",
        "outputId": "dd5aee3a-9458-4ba6-e857-1b234de40915"
      },
      "outputs": [],
      "source": [
        "# Create a list of at least 10 column names to use as X data\n",
        "selected_columns = [\n",
        "    'Age', \n",
        "    'DistanceFromHome', \n",
        "    'Education', \n",
        "    'EnvironmentSatisfaction',\n",
        "    'HourlyRate', \n",
        "    'JobInvolvement', \n",
        "    'JobLevel', \n",
        "    'JobSatisfaction',\n",
        "    'NumCompaniesWorked',\n",
        "    'PercentSalaryHike',\n",
        "    'OverTime', \n",
        "    'YearsAtCompany',\n",
        "    'TotalWorkingYears', \n",
        "    'YearsAtCompany', \n",
        "    'YearsInCurrentRole', \n",
        "    'YearsSinceLastPromotion', \n",
        "    'YearsWithCurrManager' \n",
        "    ]\n",
        "\n",
        "\n",
        "# Create X_df using your selected columns\n",
        "X_df = attrition_df[selected_columns]\n"
      ]
    },
    {
      "cell_type": "code",
      "execution_count": 6,
      "metadata": {},
      "outputs": [
        {
          "data": {
            "text/plain": [
              "Age                         int64\n",
              "DistanceFromHome            int64\n",
              "Education                   int64\n",
              "EnvironmentSatisfaction     int64\n",
              "HourlyRate                  int64\n",
              "JobInvolvement              int64\n",
              "JobLevel                    int64\n",
              "JobSatisfaction             int64\n",
              "NumCompaniesWorked          int64\n",
              "PercentSalaryHike           int64\n",
              "OverTime                   object\n",
              "YearsAtCompany              int64\n",
              "TotalWorkingYears           int64\n",
              "YearsAtCompany              int64\n",
              "YearsInCurrentRole          int64\n",
              "YearsSinceLastPromotion     int64\n",
              "YearsWithCurrManager        int64\n",
              "dtype: object"
            ]
          },
          "execution_count": 6,
          "metadata": {},
          "output_type": "execute_result"
        }
      ],
      "source": [
        "# Show the data types for X_df\n",
        "X_df.dtypes"
      ]
    },
    {
      "cell_type": "code",
      "execution_count": 7,
      "metadata": {
        "id": "KaJfdOGUMHMR"
      },
      "outputs": [],
      "source": [
        "# Split the data into training and testing sets\n",
        "X_train, X_test, y_train, y_test = train_test_split(X_df, y_df, test_size=0.2, random_state=42)\n"
      ]
    },
    {
      "cell_type": "code",
      "execution_count": 8,
      "metadata": {},
      "outputs": [
        {
          "name": "stdout",
          "output_type": "stream",
          "text": [
            "['No' 'Yes']\n"
          ]
        }
      ],
      "source": [
        "# Check values for OverTime\n",
        "print(X_train[\"OverTime\"].unique())"
      ]
    },
    {
      "cell_type": "code",
      "execution_count": 9,
      "metadata": {
        "colab": {
          "base_uri": "https://localhost:8080/"
        },
        "id": "NYubUJqiLCSp",
        "outputId": "53f31721-571c-4c94-d13e-25a715749593"
      },
      "outputs": [
        {
          "data": {
            "text/plain": [
              "0    217\n",
              "1     77\n",
              "Name: OverTime, dtype: int64"
            ]
          },
          "execution_count": 9,
          "metadata": {},
          "output_type": "execute_result"
        }
      ],
      "source": [
        "# Map 'OverTime' column values from 'Yes'/'No' to 1/0 in the training and testing sets\n",
        "\n",
        "X_train['OverTime'] = X_train['OverTime'].map({'Yes': 1, 'No': 0})\n",
        "X_test['OverTime'] = X_test['OverTime'].map({'Yes': 1, 'No': 0})\n",
        "\n",
        "#Check value counts\n",
        "X_train['OverTime'].value_counts()\n",
        "X_test['OverTime'].value_counts()\n",
        "\n"
      ]
    },
    {
      "cell_type": "code",
      "execution_count": 10,
      "metadata": {
        "id": "EWA-aIA5Gc3T"
      },
      "outputs": [],
      "source": [
        "# Create a StandardScaler\n",
        "scaler = StandardScaler()\n",
        "\n",
        "# Fit the StandardScaler to the training data\n",
        "X_train_scaled = scaler.fit_transform(X_train)\n",
        "\n",
        "# Scale the training and testing data\n",
        "X_test_scaled = scaler.transform(X_test)\n"
      ]
    },
    {
      "cell_type": "code",
      "execution_count": 11,
      "metadata": {
        "colab": {
          "base_uri": "https://localhost:8080/"
        },
        "id": "-z0Mky8vQSz4",
        "outputId": "debefc85-c20b-48f5-f4d9-91eadd65d36a"
      },
      "outputs": [],
      "source": [
        "# Create a OneHotEncoder for the Department column\n",
        "from sklearn.preprocessing import OneHotEncoder\n",
        "\n",
        "encoder_department = OneHotEncoder(sparse_output=False)\n",
        "\n",
        "# Fit the encoder to the training data\n",
        "# Create two new variables by applying the encoder\n",
        "# to the training and testing data\n",
        "y_train_department_encoded = encoder_department.fit_transform(y_train[['Department']])\n",
        "y_test_department_encoded = encoder_department.transform(y_test[['Department']])"
      ]
    },
    {
      "cell_type": "code",
      "execution_count": 12,
      "metadata": {},
      "outputs": [],
      "source": [
        "# Create a OneHotEncoder for the Attrition column\n",
        "encoder_attrition = OneHotEncoder(sparse_output=False)"
      ]
    },
    {
      "cell_type": "code",
      "execution_count": 13,
      "metadata": {
        "colab": {
          "base_uri": "https://localhost:8080/"
        },
        "id": "-G4DSpvFRrk4",
        "outputId": "9842e948-8a55-4b80-8fac-f96714e85589"
      },
      "outputs": [
        {
          "name": "stdout",
          "output_type": "stream",
          "text": [
            "Shape of y_train_department_encoded: (1176, 3)\n",
            "[[0. 1. 0.]\n",
            " [0. 1. 0.]\n",
            " [0. 0. 1.]\n",
            " ...\n",
            " [0. 1. 0.]\n",
            " [0. 1. 0.]\n",
            " [0. 0. 1.]]\n",
            "Shape of y_train_attrition_encoded: (1176, 2)\n",
            "[[1. 0.]\n",
            " [1. 0.]\n",
            " [1. 0.]\n",
            " ...\n",
            " [0. 1.]\n",
            " [1. 0.]\n",
            " [1. 0.]]\n"
          ]
        }
      ],
      "source": [
        "# Fit the encoder to the training data\n",
        "# Create two new variables by applying the encoder to the training and testing data\n",
        "y_train_attrition_encoded = encoder_attrition.fit_transform(y_train[['Attrition']])\n",
        "y_test_attrition_encoded = encoder_attrition.transform(y_test[['Attrition']])\n",
        "\n",
        "# Print the shape of the encoded data to verify\n",
        "print(\"Shape of y_train_department_encoded:\", y_train_department_encoded.shape)\n",
        "print(np.array(y_train_department_encoded))\n",
        "\n",
        "print(\"Shape of y_train_attrition_encoded:\", y_train_attrition_encoded.shape)\n",
        "print(np.array(y_train_attrition_encoded))"
      ]
    },
    {
      "cell_type": "markdown",
      "metadata": {
        "id": "ykNmu_WWGc3T"
      },
      "source": [
        "## Part 2: Create, Compile, and Train the Model"
      ]
    },
    {
      "cell_type": "code",
      "execution_count": 14,
      "metadata": {},
      "outputs": [],
      "source": [
        "from tensorflow.keras.layers import Input, Dense"
      ]
    },
    {
      "cell_type": "code",
      "execution_count": 15,
      "metadata": {
        "id": "WUptZqmSGc3T"
      },
      "outputs": [
        {
          "name": "stdout",
          "output_type": "stream",
          "text": [
            "Number of columns in X training data: 17\n"
          ]
        }
      ],
      "source": [
        "# Find the number of columns in the X training data\n",
        "num_col = X_train_scaled.shape[1]\n",
        "print(\"Number of columns in X training data:\", num_col)\n",
        "\n",
        "# Create the input layer\n",
        "input_layer = Input(shape=(num_col,))\n",
        "\n",
        "# Create at least two shared layers\n",
        "shared_layer1 = layers.Dense(64, activation='relu')(input_layer)\n",
        "shared_layer2 = layers.Dense(32, activation='relu')(shared_layer1)"
      ]
    },
    {
      "cell_type": "code",
      "execution_count": 16,
      "metadata": {
        "id": "JukjTm2yTEqd"
      },
      "outputs": [
        {
          "data": {
            "text/html": [
              "<pre style=\"white-space:pre;overflow-x:auto;line-height:normal;font-family:Menlo,'DejaVu Sans Mono',consolas,'Courier New',monospace\"><span style=\"font-weight: bold\">Model: \"functional\"</span>\n",
              "</pre>\n"
            ],
            "text/plain": [
              "\u001b[1mModel: \"functional\"\u001b[0m\n"
            ]
          },
          "metadata": {},
          "output_type": "display_data"
        },
        {
          "data": {
            "text/html": [
              "<pre style=\"white-space:pre;overflow-x:auto;line-height:normal;font-family:Menlo,'DejaVu Sans Mono',consolas,'Courier New',monospace\">┏━━━━━━━━━━━━━━━━━━━━━┳━━━━━━━━━━━━━━━━━━━┳━━━━━━━━━━━━┳━━━━━━━━━━━━━━━━━━━┓\n",
              "┃<span style=\"font-weight: bold\"> Layer (type)        </span>┃<span style=\"font-weight: bold\"> Output Shape      </span>┃<span style=\"font-weight: bold\">    Param # </span>┃<span style=\"font-weight: bold\"> Connected to      </span>┃\n",
              "┡━━━━━━━━━━━━━━━━━━━━━╇━━━━━━━━━━━━━━━━━━━╇━━━━━━━━━━━━╇━━━━━━━━━━━━━━━━━━━┩\n",
              "│ input_layer         │ (<span style=\"color: #00d7ff; text-decoration-color: #00d7ff\">None</span>, <span style=\"color: #00af00; text-decoration-color: #00af00\">17</span>)        │          <span style=\"color: #00af00; text-decoration-color: #00af00\">0</span> │ -                 │\n",
              "│ (<span style=\"color: #0087ff; text-decoration-color: #0087ff\">InputLayer</span>)        │                   │            │                   │\n",
              "├─────────────────────┼───────────────────┼────────────┼───────────────────┤\n",
              "│ dense (<span style=\"color: #0087ff; text-decoration-color: #0087ff\">Dense</span>)       │ (<span style=\"color: #00d7ff; text-decoration-color: #00d7ff\">None</span>, <span style=\"color: #00af00; text-decoration-color: #00af00\">64</span>)        │      <span style=\"color: #00af00; text-decoration-color: #00af00\">1,152</span> │ input_layer[<span style=\"color: #00af00; text-decoration-color: #00af00\">0</span>][<span style=\"color: #00af00; text-decoration-color: #00af00\">0</span>] │\n",
              "├─────────────────────┼───────────────────┼────────────┼───────────────────┤\n",
              "│ dense_1 (<span style=\"color: #0087ff; text-decoration-color: #0087ff\">Dense</span>)     │ (<span style=\"color: #00d7ff; text-decoration-color: #00d7ff\">None</span>, <span style=\"color: #00af00; text-decoration-color: #00af00\">32</span>)        │      <span style=\"color: #00af00; text-decoration-color: #00af00\">2,080</span> │ dense[<span style=\"color: #00af00; text-decoration-color: #00af00\">0</span>][<span style=\"color: #00af00; text-decoration-color: #00af00\">0</span>]       │\n",
              "├─────────────────────┼───────────────────┼────────────┼───────────────────┤\n",
              "│ dense_2 (<span style=\"color: #0087ff; text-decoration-color: #0087ff\">Dense</span>)     │ (<span style=\"color: #00d7ff; text-decoration-color: #00d7ff\">None</span>, <span style=\"color: #00af00; text-decoration-color: #00af00\">16</span>)        │        <span style=\"color: #00af00; text-decoration-color: #00af00\">528</span> │ dense_1[<span style=\"color: #00af00; text-decoration-color: #00af00\">0</span>][<span style=\"color: #00af00; text-decoration-color: #00af00\">0</span>]     │\n",
              "├─────────────────────┼───────────────────┼────────────┼───────────────────┤\n",
              "│ dense_3 (<span style=\"color: #0087ff; text-decoration-color: #0087ff\">Dense</span>)     │ (<span style=\"color: #00d7ff; text-decoration-color: #00d7ff\">None</span>, <span style=\"color: #00af00; text-decoration-color: #00af00\">16</span>)        │        <span style=\"color: #00af00; text-decoration-color: #00af00\">528</span> │ dense_1[<span style=\"color: #00af00; text-decoration-color: #00af00\">0</span>][<span style=\"color: #00af00; text-decoration-color: #00af00\">0</span>]     │\n",
              "├─────────────────────┼───────────────────┼────────────┼───────────────────┤\n",
              "│ department_output   │ (<span style=\"color: #00d7ff; text-decoration-color: #00d7ff\">None</span>, <span style=\"color: #00af00; text-decoration-color: #00af00\">3</span>)         │         <span style=\"color: #00af00; text-decoration-color: #00af00\">51</span> │ dense_2[<span style=\"color: #00af00; text-decoration-color: #00af00\">0</span>][<span style=\"color: #00af00; text-decoration-color: #00af00\">0</span>]     │\n",
              "│ (<span style=\"color: #0087ff; text-decoration-color: #0087ff\">Dense</span>)             │                   │            │                   │\n",
              "├─────────────────────┼───────────────────┼────────────┼───────────────────┤\n",
              "│ attrition_output    │ (<span style=\"color: #00d7ff; text-decoration-color: #00d7ff\">None</span>, <span style=\"color: #00af00; text-decoration-color: #00af00\">2</span>)         │         <span style=\"color: #00af00; text-decoration-color: #00af00\">34</span> │ dense_3[<span style=\"color: #00af00; text-decoration-color: #00af00\">0</span>][<span style=\"color: #00af00; text-decoration-color: #00af00\">0</span>]     │\n",
              "│ (<span style=\"color: #0087ff; text-decoration-color: #0087ff\">Dense</span>)             │                   │            │                   │\n",
              "└─────────────────────┴───────────────────┴────────────┴───────────────────┘\n",
              "</pre>\n"
            ],
            "text/plain": [
              "┏━━━━━━━━━━━━━━━━━━━━━┳━━━━━━━━━━━━━━━━━━━┳━━━━━━━━━━━━┳━━━━━━━━━━━━━━━━━━━┓\n",
              "┃\u001b[1m \u001b[0m\u001b[1mLayer (type)       \u001b[0m\u001b[1m \u001b[0m┃\u001b[1m \u001b[0m\u001b[1mOutput Shape     \u001b[0m\u001b[1m \u001b[0m┃\u001b[1m \u001b[0m\u001b[1m   Param #\u001b[0m\u001b[1m \u001b[0m┃\u001b[1m \u001b[0m\u001b[1mConnected to     \u001b[0m\u001b[1m \u001b[0m┃\n",
              "┡━━━━━━━━━━━━━━━━━━━━━╇━━━━━━━━━━━━━━━━━━━╇━━━━━━━━━━━━╇━━━━━━━━━━━━━━━━━━━┩\n",
              "│ input_layer         │ (\u001b[38;5;45mNone\u001b[0m, \u001b[38;5;34m17\u001b[0m)        │          \u001b[38;5;34m0\u001b[0m │ -                 │\n",
              "│ (\u001b[38;5;33mInputLayer\u001b[0m)        │                   │            │                   │\n",
              "├─────────────────────┼───────────────────┼────────────┼───────────────────┤\n",
              "│ dense (\u001b[38;5;33mDense\u001b[0m)       │ (\u001b[38;5;45mNone\u001b[0m, \u001b[38;5;34m64\u001b[0m)        │      \u001b[38;5;34m1,152\u001b[0m │ input_layer[\u001b[38;5;34m0\u001b[0m][\u001b[38;5;34m0\u001b[0m] │\n",
              "├─────────────────────┼───────────────────┼────────────┼───────────────────┤\n",
              "│ dense_1 (\u001b[38;5;33mDense\u001b[0m)     │ (\u001b[38;5;45mNone\u001b[0m, \u001b[38;5;34m32\u001b[0m)        │      \u001b[38;5;34m2,080\u001b[0m │ dense[\u001b[38;5;34m0\u001b[0m][\u001b[38;5;34m0\u001b[0m]       │\n",
              "├─────────────────────┼───────────────────┼────────────┼───────────────────┤\n",
              "│ dense_2 (\u001b[38;5;33mDense\u001b[0m)     │ (\u001b[38;5;45mNone\u001b[0m, \u001b[38;5;34m16\u001b[0m)        │        \u001b[38;5;34m528\u001b[0m │ dense_1[\u001b[38;5;34m0\u001b[0m][\u001b[38;5;34m0\u001b[0m]     │\n",
              "├─────────────────────┼───────────────────┼────────────┼───────────────────┤\n",
              "│ dense_3 (\u001b[38;5;33mDense\u001b[0m)     │ (\u001b[38;5;45mNone\u001b[0m, \u001b[38;5;34m16\u001b[0m)        │        \u001b[38;5;34m528\u001b[0m │ dense_1[\u001b[38;5;34m0\u001b[0m][\u001b[38;5;34m0\u001b[0m]     │\n",
              "├─────────────────────┼───────────────────┼────────────┼───────────────────┤\n",
              "│ department_output   │ (\u001b[38;5;45mNone\u001b[0m, \u001b[38;5;34m3\u001b[0m)         │         \u001b[38;5;34m51\u001b[0m │ dense_2[\u001b[38;5;34m0\u001b[0m][\u001b[38;5;34m0\u001b[0m]     │\n",
              "│ (\u001b[38;5;33mDense\u001b[0m)             │                   │            │                   │\n",
              "├─────────────────────┼───────────────────┼────────────┼───────────────────┤\n",
              "│ attrition_output    │ (\u001b[38;5;45mNone\u001b[0m, \u001b[38;5;34m2\u001b[0m)         │         \u001b[38;5;34m34\u001b[0m │ dense_3[\u001b[38;5;34m0\u001b[0m][\u001b[38;5;34m0\u001b[0m]     │\n",
              "│ (\u001b[38;5;33mDense\u001b[0m)             │                   │            │                   │\n",
              "└─────────────────────┴───────────────────┴────────────┴───────────────────┘\n"
            ]
          },
          "metadata": {},
          "output_type": "display_data"
        },
        {
          "data": {
            "text/html": [
              "<pre style=\"white-space:pre;overflow-x:auto;line-height:normal;font-family:Menlo,'DejaVu Sans Mono',consolas,'Courier New',monospace\"><span style=\"font-weight: bold\"> Total params: </span><span style=\"color: #00af00; text-decoration-color: #00af00\">4,373</span> (17.08 KB)\n",
              "</pre>\n"
            ],
            "text/plain": [
              "\u001b[1m Total params: \u001b[0m\u001b[38;5;34m4,373\u001b[0m (17.08 KB)\n"
            ]
          },
          "metadata": {},
          "output_type": "display_data"
        },
        {
          "data": {
            "text/html": [
              "<pre style=\"white-space:pre;overflow-x:auto;line-height:normal;font-family:Menlo,'DejaVu Sans Mono',consolas,'Courier New',monospace\"><span style=\"font-weight: bold\"> Trainable params: </span><span style=\"color: #00af00; text-decoration-color: #00af00\">4,373</span> (17.08 KB)\n",
              "</pre>\n"
            ],
            "text/plain": [
              "\u001b[1m Trainable params: \u001b[0m\u001b[38;5;34m4,373\u001b[0m (17.08 KB)\n"
            ]
          },
          "metadata": {},
          "output_type": "display_data"
        },
        {
          "data": {
            "text/html": [
              "<pre style=\"white-space:pre;overflow-x:auto;line-height:normal;font-family:Menlo,'DejaVu Sans Mono',consolas,'Courier New',monospace\"><span style=\"font-weight: bold\"> Non-trainable params: </span><span style=\"color: #00af00; text-decoration-color: #00af00\">0</span> (0.00 B)\n",
              "</pre>\n"
            ],
            "text/plain": [
              "\u001b[1m Non-trainable params: \u001b[0m\u001b[38;5;34m0\u001b[0m (0.00 B)\n"
            ]
          },
          "metadata": {},
          "output_type": "display_data"
        }
      ],
      "source": [
        "# Create a branch for Department with a hidden layer and an output layer\n",
        "\n",
        "# Create the hidden layer\n",
        "department_hidden = Dense(16, activation='relu')(shared_layer2)\n",
        "\n",
        "# Create the output layer\n",
        "department_output = Dense(\n",
        "    y_train_department_encoded.shape[1], \n",
        "    activation='softmax', name='department_output')(department_hidden)\n",
        "\n",
        "# Create a branch for Attrition with a hidden layer and an output layer\n",
        "\n",
        "# Create the hidden layer\n",
        "attrition_hidden = layers.Dense(\n",
        "    16, activation='relu')(shared_layer2)\n",
        "\n",
        "# Create the output layer\n",
        "attrition_output = layers.Dense(\n",
        "    y_train_attrition_encoded.shape[1], \n",
        "    activation='sigmoid', name='attrition_output')(attrition_hidden)\n",
        "\n",
        "# Create the model\n",
        "model = Model(inputs=input_layer, outputs=[department_output, attrition_output])\n",
        "\n",
        "# Compile the model\n",
        "model.compile(optimizer='adam',\n",
        "              loss={'department_output': 'categorical_crossentropy',\n",
        "                    'attrition_output': 'binary_crossentropy'},\n",
        "              metrics={'department_output': 'accuracy',\n",
        "                       'attrition_output': 'accuracy'})\n",
        "\n",
        "# Summarize the model\n",
        "model.summary()"
      ]
    },
    {
      "cell_type": "code",
      "execution_count": 17,
      "metadata": {
        "colab": {
          "base_uri": "https://localhost:8080/"
        },
        "id": "c8oGy0dpGc3U",
        "outputId": "cc667d43-28cf-42d4-d719-c2bc02888d30"
      },
      "outputs": [
        {
          "name": "stdout",
          "output_type": "stream",
          "text": [
            "Epoch 1/100\n",
            "\u001b[1m30/30\u001b[0m \u001b[32m━━━━━━━━━━━━━━━━━━━━\u001b[0m\u001b[37m\u001b[0m \u001b[1m1s\u001b[0m 4ms/step - attrition_output_accuracy: 0.3834 - attrition_output_loss: 0.7744 - department_output_accuracy: 0.2086 - department_output_loss: 0.7110 - loss: 1.4857 - val_attrition_output_accuracy: 0.8008 - val_attrition_output_loss: 0.5389 - val_department_output_accuracy: 0.5678 - val_department_output_loss: 0.6514 - val_loss: 1.1915\n",
            "Epoch 2/100\n",
            "\u001b[1m30/30\u001b[0m \u001b[32m━━━━━━━━━━━━━━━━━━━━\u001b[0m\u001b[37m\u001b[0m \u001b[1m0s\u001b[0m 1ms/step - attrition_output_accuracy: 0.8368 - attrition_output_loss: 0.4917 - department_output_accuracy: 0.6226 - department_output_loss: 0.6301 - loss: 1.1220 - val_attrition_output_accuracy: 0.7966 - val_attrition_output_loss: 0.4621 - val_department_output_accuracy: 0.6314 - val_department_output_loss: 0.5784 - val_loss: 1.0504\n",
            "Epoch 3/100\n",
            "\u001b[1m30/30\u001b[0m \u001b[32m━━━━━━━━━━━━━━━━━━━━\u001b[0m\u001b[37m\u001b[0m \u001b[1m0s\u001b[0m 1ms/step - attrition_output_accuracy: 0.8334 - attrition_output_loss: 0.4221 - department_output_accuracy: 0.6607 - department_output_loss: 0.5471 - loss: 0.9697 - val_attrition_output_accuracy: 0.7966 - val_attrition_output_loss: 0.4363 - val_department_output_accuracy: 0.6314 - val_department_output_loss: 0.5238 - val_loss: 0.9738\n",
            "Epoch 4/100\n",
            "\u001b[1m30/30\u001b[0m \u001b[32m━━━━━━━━━━━━━━━━━━━━\u001b[0m\u001b[37m\u001b[0m \u001b[1m0s\u001b[0m 956us/step - attrition_output_accuracy: 0.8426 - attrition_output_loss: 0.3958 - department_output_accuracy: 0.6444 - department_output_loss: 0.5009 - loss: 0.8964 - val_attrition_output_accuracy: 0.8008 - val_attrition_output_loss: 0.4142 - val_department_output_accuracy: 0.6314 - val_department_output_loss: 0.4976 - val_loss: 0.9286\n",
            "Epoch 5/100\n",
            "\u001b[1m30/30\u001b[0m \u001b[32m━━━━━━━━━━━━━━━━━━━━\u001b[0m\u001b[37m\u001b[0m \u001b[1m0s\u001b[0m 963us/step - attrition_output_accuracy: 0.8445 - attrition_output_loss: 0.3814 - department_output_accuracy: 0.6393 - department_output_loss: 0.4934 - loss: 0.8747 - val_attrition_output_accuracy: 0.8263 - val_attrition_output_loss: 0.3981 - val_department_output_accuracy: 0.6314 - val_department_output_loss: 0.4915 - val_loss: 0.9077\n",
            "Epoch 6/100\n",
            "\u001b[1m30/30\u001b[0m \u001b[32m━━━━━━━━━━━━━━━━━━━━\u001b[0m\u001b[37m\u001b[0m \u001b[1m0s\u001b[0m 997us/step - attrition_output_accuracy: 0.8460 - attrition_output_loss: 0.3645 - department_output_accuracy: 0.6654 - department_output_loss: 0.4612 - loss: 0.8256 - val_attrition_output_accuracy: 0.8347 - val_attrition_output_loss: 0.3893 - val_department_output_accuracy: 0.6314 - val_department_output_loss: 0.4888 - val_loss: 0.8966\n",
            "Epoch 7/100\n",
            "\u001b[1m30/30\u001b[0m \u001b[32m━━━━━━━━━━━━━━━━━━━━\u001b[0m\u001b[37m\u001b[0m \u001b[1m0s\u001b[0m 957us/step - attrition_output_accuracy: 0.8684 - attrition_output_loss: 0.3252 - department_output_accuracy: 0.6553 - department_output_loss: 0.4684 - loss: 0.7938 - val_attrition_output_accuracy: 0.8390 - val_attrition_output_loss: 0.3859 - val_department_output_accuracy: 0.6314 - val_department_output_loss: 0.4890 - val_loss: 0.8955\n",
            "Epoch 8/100\n",
            "\u001b[1m30/30\u001b[0m \u001b[32m━━━━━━━━━━━━━━━━━━━━\u001b[0m\u001b[37m\u001b[0m \u001b[1m0s\u001b[0m 1ms/step - attrition_output_accuracy: 0.8630 - attrition_output_loss: 0.3369 - department_output_accuracy: 0.6596 - department_output_loss: 0.4622 - loss: 0.7996 - val_attrition_output_accuracy: 0.8390 - val_attrition_output_loss: 0.3939 - val_department_output_accuracy: 0.6314 - val_department_output_loss: 0.4877 - val_loss: 0.9034\n",
            "Epoch 9/100\n",
            "\u001b[1m30/30\u001b[0m \u001b[32m━━━━━━━━━━━━━━━━━━━━\u001b[0m\u001b[37m\u001b[0m \u001b[1m0s\u001b[0m 988us/step - attrition_output_accuracy: 0.8772 - attrition_output_loss: 0.3136 - department_output_accuracy: 0.6564 - department_output_loss: 0.4621 - loss: 0.7760 - val_attrition_output_accuracy: 0.8517 - val_attrition_output_loss: 0.3846 - val_department_output_accuracy: 0.6314 - val_department_output_loss: 0.4878 - val_loss: 0.8933\n",
            "Epoch 10/100\n",
            "\u001b[1m30/30\u001b[0m \u001b[32m━━━━━━━━━━━━━━━━━━━━\u001b[0m\u001b[37m\u001b[0m \u001b[1m0s\u001b[0m 1ms/step - attrition_output_accuracy: 0.8693 - attrition_output_loss: 0.3072 - department_output_accuracy: 0.6750 - department_output_loss: 0.4442 - loss: 0.7514 - val_attrition_output_accuracy: 0.8432 - val_attrition_output_loss: 0.3927 - val_department_output_accuracy: 0.6271 - val_department_output_loss: 0.4870 - val_loss: 0.9027\n",
            "Epoch 11/100\n",
            "\u001b[1m30/30\u001b[0m \u001b[32m━━━━━━━━━━━━━━━━━━━━\u001b[0m\u001b[37m\u001b[0m \u001b[1m0s\u001b[0m 1ms/step - attrition_output_accuracy: 0.8853 - attrition_output_loss: 0.2754 - department_output_accuracy: 0.6488 - department_output_loss: 0.4559 - loss: 0.7313 - val_attrition_output_accuracy: 0.8432 - val_attrition_output_loss: 0.3853 - val_department_output_accuracy: 0.6314 - val_department_output_loss: 0.4903 - val_loss: 0.8976\n",
            "Epoch 12/100\n",
            "\u001b[1m30/30\u001b[0m \u001b[32m━━━━━━━━━━━━━━━━━━━━\u001b[0m\u001b[37m\u001b[0m \u001b[1m0s\u001b[0m 988us/step - attrition_output_accuracy: 0.8768 - attrition_output_loss: 0.2986 - department_output_accuracy: 0.6341 - department_output_loss: 0.4672 - loss: 0.7660 - val_attrition_output_accuracy: 0.8475 - val_attrition_output_loss: 0.3866 - val_department_output_accuracy: 0.6271 - val_department_output_loss: 0.4886 - val_loss: 0.8989\n",
            "Epoch 13/100\n",
            "\u001b[1m30/30\u001b[0m \u001b[32m━━━━━━━━━━━━━━━━━━━━\u001b[0m\u001b[37m\u001b[0m \u001b[1m0s\u001b[0m 934us/step - attrition_output_accuracy: 0.8837 - attrition_output_loss: 0.2784 - department_output_accuracy: 0.6564 - department_output_loss: 0.4465 - loss: 0.7249 - val_attrition_output_accuracy: 0.8475 - val_attrition_output_loss: 0.3937 - val_department_output_accuracy: 0.6271 - val_department_output_loss: 0.4868 - val_loss: 0.9042\n",
            "Epoch 14/100\n",
            "\u001b[1m30/30\u001b[0m \u001b[32m━━━━━━━━━━━━━━━━━━━━\u001b[0m\u001b[37m\u001b[0m \u001b[1m0s\u001b[0m 1ms/step - attrition_output_accuracy: 0.8792 - attrition_output_loss: 0.3013 - department_output_accuracy: 0.6623 - department_output_loss: 0.4374 - loss: 0.7391 - val_attrition_output_accuracy: 0.8475 - val_attrition_output_loss: 0.3941 - val_department_output_accuracy: 0.6144 - val_department_output_loss: 0.4882 - val_loss: 0.9063\n",
            "Epoch 15/100\n",
            "\u001b[1m30/30\u001b[0m \u001b[32m━━━━━━━━━━━━━━━━━━━━\u001b[0m\u001b[37m\u001b[0m \u001b[1m0s\u001b[0m 953us/step - attrition_output_accuracy: 0.8807 - attrition_output_loss: 0.3112 - department_output_accuracy: 0.6664 - department_output_loss: 0.4408 - loss: 0.7513 - val_attrition_output_accuracy: 0.8475 - val_attrition_output_loss: 0.3947 - val_department_output_accuracy: 0.6271 - val_department_output_loss: 0.4908 - val_loss: 0.9098\n",
            "Epoch 16/100\n",
            "\u001b[1m30/30\u001b[0m \u001b[32m━━━━━━━━━━━━━━━━━━━━\u001b[0m\u001b[37m\u001b[0m \u001b[1m0s\u001b[0m 975us/step - attrition_output_accuracy: 0.8990 - attrition_output_loss: 0.2696 - department_output_accuracy: 0.6551 - department_output_loss: 0.4454 - loss: 0.7150 - val_attrition_output_accuracy: 0.8517 - val_attrition_output_loss: 0.3953 - val_department_output_accuracy: 0.6271 - val_department_output_loss: 0.4936 - val_loss: 0.9127\n",
            "Epoch 17/100\n",
            "\u001b[1m30/30\u001b[0m \u001b[32m━━━━━━━━━━━━━━━━━━━━\u001b[0m\u001b[37m\u001b[0m \u001b[1m0s\u001b[0m 971us/step - attrition_output_accuracy: 0.8887 - attrition_output_loss: 0.2900 - department_output_accuracy: 0.6823 - department_output_loss: 0.4275 - loss: 0.7174 - val_attrition_output_accuracy: 0.8517 - val_attrition_output_loss: 0.3943 - val_department_output_accuracy: 0.6144 - val_department_output_loss: 0.4917 - val_loss: 0.9104\n",
            "Epoch 18/100\n",
            "\u001b[1m30/30\u001b[0m \u001b[32m━━━━━━━━━━━━━━━━━━━━\u001b[0m\u001b[37m\u001b[0m \u001b[1m0s\u001b[0m 960us/step - attrition_output_accuracy: 0.8810 - attrition_output_loss: 0.2743 - department_output_accuracy: 0.6646 - department_output_loss: 0.4424 - loss: 0.7165 - val_attrition_output_accuracy: 0.8475 - val_attrition_output_loss: 0.3980 - val_department_output_accuracy: 0.6102 - val_department_output_loss: 0.4956 - val_loss: 0.9179\n",
            "Epoch 19/100\n",
            "\u001b[1m30/30\u001b[0m \u001b[32m━━━━━━━━━━━━━━━━━━━━\u001b[0m\u001b[37m\u001b[0m \u001b[1m0s\u001b[0m 1ms/step - attrition_output_accuracy: 0.8971 - attrition_output_loss: 0.2616 - department_output_accuracy: 0.6668 - department_output_loss: 0.4393 - loss: 0.7010 - val_attrition_output_accuracy: 0.8559 - val_attrition_output_loss: 0.4108 - val_department_output_accuracy: 0.6144 - val_department_output_loss: 0.4970 - val_loss: 0.9326\n",
            "Epoch 20/100\n",
            "\u001b[1m30/30\u001b[0m \u001b[32m━━━━━━━━━━━━━━━━━━━━\u001b[0m\u001b[37m\u001b[0m \u001b[1m0s\u001b[0m 1ms/step - attrition_output_accuracy: 0.8926 - attrition_output_loss: 0.2704 - department_output_accuracy: 0.6606 - department_output_loss: 0.4364 - loss: 0.7068 - val_attrition_output_accuracy: 0.8475 - val_attrition_output_loss: 0.4198 - val_department_output_accuracy: 0.6144 - val_department_output_loss: 0.5006 - val_loss: 0.9458\n",
            "Epoch 21/100\n",
            "\u001b[1m30/30\u001b[0m \u001b[32m━━━━━━━━━━━━━━━━━━━━\u001b[0m\u001b[37m\u001b[0m \u001b[1m0s\u001b[0m 1ms/step - attrition_output_accuracy: 0.8914 - attrition_output_loss: 0.2758 - department_output_accuracy: 0.6730 - department_output_loss: 0.4207 - loss: 0.6965 - val_attrition_output_accuracy: 0.8432 - val_attrition_output_loss: 0.4398 - val_department_output_accuracy: 0.6356 - val_department_output_loss: 0.4992 - val_loss: 0.9604\n",
            "Epoch 22/100\n",
            "\u001b[1m30/30\u001b[0m \u001b[32m━━━━━━━━━━━━━━━━━━━━\u001b[0m\u001b[37m\u001b[0m \u001b[1m0s\u001b[0m 1ms/step - attrition_output_accuracy: 0.8930 - attrition_output_loss: 0.2429 - department_output_accuracy: 0.7009 - department_output_loss: 0.4237 - loss: 0.6669 - val_attrition_output_accuracy: 0.8347 - val_attrition_output_loss: 0.4318 - val_department_output_accuracy: 0.6271 - val_department_output_loss: 0.5070 - val_loss: 0.9639\n",
            "Epoch 23/100\n",
            "\u001b[1m30/30\u001b[0m \u001b[32m━━━━━━━━━━━━━━━━━━━━\u001b[0m\u001b[37m\u001b[0m \u001b[1m0s\u001b[0m 1ms/step - attrition_output_accuracy: 0.9008 - attrition_output_loss: 0.2220 - department_output_accuracy: 0.6991 - department_output_loss: 0.4153 - loss: 0.6375 - val_attrition_output_accuracy: 0.8390 - val_attrition_output_loss: 0.4241 - val_department_output_accuracy: 0.6186 - val_department_output_loss: 0.5060 - val_loss: 0.9544\n",
            "Epoch 24/100\n",
            "\u001b[1m30/30\u001b[0m \u001b[32m━━━━━━━━━━━━━━━━━━━━\u001b[0m\u001b[37m\u001b[0m \u001b[1m0s\u001b[0m 1ms/step - attrition_output_accuracy: 0.9084 - attrition_output_loss: 0.2290 - department_output_accuracy: 0.7204 - department_output_loss: 0.4137 - loss: 0.6428 - val_attrition_output_accuracy: 0.8347 - val_attrition_output_loss: 0.4405 - val_department_output_accuracy: 0.6017 - val_department_output_loss: 0.5107 - val_loss: 0.9743\n",
            "Epoch 25/100\n",
            "\u001b[1m30/30\u001b[0m \u001b[32m━━━━━━━━━━━━━━━━━━━━\u001b[0m\u001b[37m\u001b[0m \u001b[1m0s\u001b[0m 1ms/step - attrition_output_accuracy: 0.9148 - attrition_output_loss: 0.2062 - department_output_accuracy: 0.7219 - department_output_loss: 0.3990 - loss: 0.6055 - val_attrition_output_accuracy: 0.8305 - val_attrition_output_loss: 0.4229 - val_department_output_accuracy: 0.6059 - val_department_output_loss: 0.5103 - val_loss: 0.9576\n",
            "Epoch 26/100\n",
            "\u001b[1m30/30\u001b[0m \u001b[32m━━━━━━━━━━━━━━━━━━━━\u001b[0m\u001b[37m\u001b[0m \u001b[1m0s\u001b[0m 1ms/step - attrition_output_accuracy: 0.9106 - attrition_output_loss: 0.2252 - department_output_accuracy: 0.7275 - department_output_loss: 0.4064 - loss: 0.6316 - val_attrition_output_accuracy: 0.8517 - val_attrition_output_loss: 0.4229 - val_department_output_accuracy: 0.6144 - val_department_output_loss: 0.5166 - val_loss: 0.9633\n",
            "Epoch 27/100\n",
            "\u001b[1m30/30\u001b[0m \u001b[32m━━━━━━━━━━━━━━━━━━━━\u001b[0m\u001b[37m\u001b[0m \u001b[1m0s\u001b[0m 982us/step - attrition_output_accuracy: 0.9071 - attrition_output_loss: 0.2149 - department_output_accuracy: 0.7052 - department_output_loss: 0.4144 - loss: 0.6296 - val_attrition_output_accuracy: 0.8390 - val_attrition_output_loss: 0.4440 - val_department_output_accuracy: 0.6144 - val_department_output_loss: 0.5264 - val_loss: 0.9955\n",
            "Epoch 28/100\n",
            "\u001b[1m30/30\u001b[0m \u001b[32m━━━━━━━━━━━━━━━━━━━━\u001b[0m\u001b[37m\u001b[0m \u001b[1m0s\u001b[0m 996us/step - attrition_output_accuracy: 0.9195 - attrition_output_loss: 0.2010 - department_output_accuracy: 0.7187 - department_output_loss: 0.3927 - loss: 0.5937 - val_attrition_output_accuracy: 0.8432 - val_attrition_output_loss: 0.4424 - val_department_output_accuracy: 0.6059 - val_department_output_loss: 0.5245 - val_loss: 0.9894\n",
            "Epoch 29/100\n",
            "\u001b[1m30/30\u001b[0m \u001b[32m━━━━━━━━━━━━━━━━━━━━\u001b[0m\u001b[37m\u001b[0m \u001b[1m0s\u001b[0m 1ms/step - attrition_output_accuracy: 0.9266 - attrition_output_loss: 0.2056 - department_output_accuracy: 0.7396 - department_output_loss: 0.3783 - loss: 0.5840 - val_attrition_output_accuracy: 0.8475 - val_attrition_output_loss: 0.4449 - val_department_output_accuracy: 0.5763 - val_department_output_loss: 0.5195 - val_loss: 0.9850\n",
            "Epoch 30/100\n",
            "\u001b[1m30/30\u001b[0m \u001b[32m━━━━━━━━━━━━━━━━━━━━\u001b[0m\u001b[37m\u001b[0m \u001b[1m0s\u001b[0m 965us/step - attrition_output_accuracy: 0.9283 - attrition_output_loss: 0.1896 - department_output_accuracy: 0.7290 - department_output_loss: 0.3889 - loss: 0.5784 - val_attrition_output_accuracy: 0.8390 - val_attrition_output_loss: 0.4569 - val_department_output_accuracy: 0.6059 - val_department_output_loss: 0.5256 - val_loss: 1.0029\n",
            "Epoch 31/100\n",
            "\u001b[1m30/30\u001b[0m \u001b[32m━━━━━━━━━━━━━━━━━━━━\u001b[0m\u001b[37m\u001b[0m \u001b[1m0s\u001b[0m 947us/step - attrition_output_accuracy: 0.9325 - attrition_output_loss: 0.1928 - department_output_accuracy: 0.7333 - department_output_loss: 0.3779 - loss: 0.5702 - val_attrition_output_accuracy: 0.8559 - val_attrition_output_loss: 0.4565 - val_department_output_accuracy: 0.6017 - val_department_output_loss: 0.5304 - val_loss: 1.0072\n",
            "Epoch 32/100\n",
            "\u001b[1m30/30\u001b[0m \u001b[32m━━━━━━━━━━━━━━━━━━━━\u001b[0m\u001b[37m\u001b[0m \u001b[1m0s\u001b[0m 947us/step - attrition_output_accuracy: 0.9284 - attrition_output_loss: 0.1904 - department_output_accuracy: 0.7578 - department_output_loss: 0.3654 - loss: 0.5557 - val_attrition_output_accuracy: 0.8432 - val_attrition_output_loss: 0.4675 - val_department_output_accuracy: 0.6059 - val_department_output_loss: 0.5353 - val_loss: 1.0239\n",
            "Epoch 33/100\n",
            "\u001b[1m30/30\u001b[0m \u001b[32m━━━━━━━━━━━━━━━━━━━━\u001b[0m\u001b[37m\u001b[0m \u001b[1m0s\u001b[0m 948us/step - attrition_output_accuracy: 0.9274 - attrition_output_loss: 0.1868 - department_output_accuracy: 0.7445 - department_output_loss: 0.3755 - loss: 0.5621 - val_attrition_output_accuracy: 0.8432 - val_attrition_output_loss: 0.4744 - val_department_output_accuracy: 0.6017 - val_department_output_loss: 0.5384 - val_loss: 1.0326\n",
            "Epoch 34/100\n",
            "\u001b[1m30/30\u001b[0m \u001b[32m━━━━━━━━━━━━━━━━━━━━\u001b[0m\u001b[37m\u001b[0m \u001b[1m0s\u001b[0m 2ms/step - attrition_output_accuracy: 0.9301 - attrition_output_loss: 0.1747 - department_output_accuracy: 0.7446 - department_output_loss: 0.3735 - loss: 0.5486 - val_attrition_output_accuracy: 0.8432 - val_attrition_output_loss: 0.4801 - val_department_output_accuracy: 0.6144 - val_department_output_loss: 0.5484 - val_loss: 1.0484\n",
            "Epoch 35/100\n",
            "\u001b[1m30/30\u001b[0m \u001b[32m━━━━━━━━━━━━━━━━━━━━\u001b[0m\u001b[37m\u001b[0m \u001b[1m0s\u001b[0m 952us/step - attrition_output_accuracy: 0.9365 - attrition_output_loss: 0.1779 - department_output_accuracy: 0.7161 - department_output_loss: 0.3836 - loss: 0.5616 - val_attrition_output_accuracy: 0.8390 - val_attrition_output_loss: 0.4931 - val_department_output_accuracy: 0.5890 - val_department_output_loss: 0.5424 - val_loss: 1.0550\n",
            "Epoch 36/100\n",
            "\u001b[1m30/30\u001b[0m \u001b[32m━━━━━━━━━━━━━━━━━━━━\u001b[0m\u001b[37m\u001b[0m \u001b[1m0s\u001b[0m 1ms/step - attrition_output_accuracy: 0.9466 - attrition_output_loss: 0.1617 - department_output_accuracy: 0.7452 - department_output_loss: 0.3613 - loss: 0.5232 - val_attrition_output_accuracy: 0.8517 - val_attrition_output_loss: 0.4935 - val_department_output_accuracy: 0.5890 - val_department_output_loss: 0.5400 - val_loss: 1.0518\n",
            "Epoch 37/100\n",
            "\u001b[1m30/30\u001b[0m \u001b[32m━━━━━━━━━━━━━━━━━━━━\u001b[0m\u001b[37m\u001b[0m \u001b[1m0s\u001b[0m 927us/step - attrition_output_accuracy: 0.9442 - attrition_output_loss: 0.1602 - department_output_accuracy: 0.7342 - department_output_loss: 0.3676 - loss: 0.5277 - val_attrition_output_accuracy: 0.8475 - val_attrition_output_loss: 0.5030 - val_department_output_accuracy: 0.6059 - val_department_output_loss: 0.5452 - val_loss: 1.0685\n",
            "Epoch 38/100\n",
            "\u001b[1m30/30\u001b[0m \u001b[32m━━━━━━━━━━━━━━━━━━━━\u001b[0m\u001b[37m\u001b[0m \u001b[1m0s\u001b[0m 943us/step - attrition_output_accuracy: 0.9471 - attrition_output_loss: 0.1454 - department_output_accuracy: 0.7701 - department_output_loss: 0.3569 - loss: 0.5025 - val_attrition_output_accuracy: 0.8432 - val_attrition_output_loss: 0.5067 - val_department_output_accuracy: 0.6186 - val_department_output_loss: 0.5518 - val_loss: 1.0760\n",
            "Epoch 39/100\n",
            "\u001b[1m30/30\u001b[0m \u001b[32m━━━━━━━━━━━━━━━━━━━━\u001b[0m\u001b[37m\u001b[0m \u001b[1m0s\u001b[0m 970us/step - attrition_output_accuracy: 0.9517 - attrition_output_loss: 0.1520 - department_output_accuracy: 0.7538 - department_output_loss: 0.3588 - loss: 0.5109 - val_attrition_output_accuracy: 0.8263 - val_attrition_output_loss: 0.5075 - val_department_output_accuracy: 0.6186 - val_department_output_loss: 0.5578 - val_loss: 1.0857\n",
            "Epoch 40/100\n",
            "\u001b[1m30/30\u001b[0m \u001b[32m━━━━━━━━━━━━━━━━━━━━\u001b[0m\u001b[37m\u001b[0m \u001b[1m0s\u001b[0m 962us/step - attrition_output_accuracy: 0.9552 - attrition_output_loss: 0.1390 - department_output_accuracy: 0.7672 - department_output_loss: 0.3477 - loss: 0.4869 - val_attrition_output_accuracy: 0.8390 - val_attrition_output_loss: 0.5264 - val_department_output_accuracy: 0.5847 - val_department_output_loss: 0.5623 - val_loss: 1.1036\n",
            "Epoch 41/100\n",
            "\u001b[1m30/30\u001b[0m \u001b[32m━━━━━━━━━━━━━━━━━━━━\u001b[0m\u001b[37m\u001b[0m \u001b[1m0s\u001b[0m 915us/step - attrition_output_accuracy: 0.9657 - attrition_output_loss: 0.1218 - department_output_accuracy: 0.7587 - department_output_loss: 0.3630 - loss: 0.4845 - val_attrition_output_accuracy: 0.8432 - val_attrition_output_loss: 0.5357 - val_department_output_accuracy: 0.5975 - val_department_output_loss: 0.5736 - val_loss: 1.1309\n",
            "Epoch 42/100\n",
            "\u001b[1m30/30\u001b[0m \u001b[32m━━━━━━━━━━━━━━━━━━━━\u001b[0m\u001b[37m\u001b[0m \u001b[1m0s\u001b[0m 936us/step - attrition_output_accuracy: 0.9666 - attrition_output_loss: 0.1256 - department_output_accuracy: 0.7737 - department_output_loss: 0.3469 - loss: 0.4723 - val_attrition_output_accuracy: 0.8390 - val_attrition_output_loss: 0.5296 - val_department_output_accuracy: 0.6102 - val_department_output_loss: 0.5822 - val_loss: 1.1356\n",
            "Epoch 43/100\n",
            "\u001b[1m30/30\u001b[0m \u001b[32m━━━━━━━━━━━━━━━━━━━━\u001b[0m\u001b[37m\u001b[0m \u001b[1m0s\u001b[0m 906us/step - attrition_output_accuracy: 0.9624 - attrition_output_loss: 0.1166 - department_output_accuracy: 0.7786 - department_output_loss: 0.3242 - loss: 0.4405 - val_attrition_output_accuracy: 0.8305 - val_attrition_output_loss: 0.5539 - val_department_output_accuracy: 0.5805 - val_department_output_loss: 0.5684 - val_loss: 1.1432\n",
            "Epoch 44/100\n",
            "\u001b[1m30/30\u001b[0m \u001b[32m━━━━━━━━━━━━━━━━━━━━\u001b[0m\u001b[37m\u001b[0m \u001b[1m0s\u001b[0m 913us/step - attrition_output_accuracy: 0.9630 - attrition_output_loss: 0.1224 - department_output_accuracy: 0.7728 - department_output_loss: 0.3353 - loss: 0.4577 - val_attrition_output_accuracy: 0.8390 - val_attrition_output_loss: 0.5304 - val_department_output_accuracy: 0.5720 - val_department_output_loss: 0.5651 - val_loss: 1.1172\n",
            "Epoch 45/100\n",
            "\u001b[1m30/30\u001b[0m \u001b[32m━━━━━━━━━━━━━━━━━━━━\u001b[0m\u001b[37m\u001b[0m \u001b[1m0s\u001b[0m 908us/step - attrition_output_accuracy: 0.9686 - attrition_output_loss: 0.1241 - department_output_accuracy: 0.7529 - department_output_loss: 0.3393 - loss: 0.4633 - val_attrition_output_accuracy: 0.8390 - val_attrition_output_loss: 0.5533 - val_department_output_accuracy: 0.5636 - val_department_output_loss: 0.5762 - val_loss: 1.1493\n",
            "Epoch 46/100\n",
            "\u001b[1m30/30\u001b[0m \u001b[32m━━━━━━━━━━━━━━━━━━━━\u001b[0m\u001b[37m\u001b[0m \u001b[1m0s\u001b[0m 948us/step - attrition_output_accuracy: 0.9771 - attrition_output_loss: 0.1020 - department_output_accuracy: 0.7741 - department_output_loss: 0.3319 - loss: 0.4340 - val_attrition_output_accuracy: 0.8305 - val_attrition_output_loss: 0.5707 - val_department_output_accuracy: 0.5508 - val_department_output_loss: 0.5783 - val_loss: 1.1709\n",
            "Epoch 47/100\n",
            "\u001b[1m30/30\u001b[0m \u001b[32m━━━━━━━━━━━━━━━━━━━━\u001b[0m\u001b[37m\u001b[0m \u001b[1m0s\u001b[0m 933us/step - attrition_output_accuracy: 0.9696 - attrition_output_loss: 0.1134 - department_output_accuracy: 0.7830 - department_output_loss: 0.3269 - loss: 0.4402 - val_attrition_output_accuracy: 0.8305 - val_attrition_output_loss: 0.5772 - val_department_output_accuracy: 0.5763 - val_department_output_loss: 0.5804 - val_loss: 1.1797\n",
            "Epoch 48/100\n",
            "\u001b[1m30/30\u001b[0m \u001b[32m━━━━━━━━━━━━━━━━━━━━\u001b[0m\u001b[37m\u001b[0m \u001b[1m0s\u001b[0m 968us/step - attrition_output_accuracy: 0.9649 - attrition_output_loss: 0.0896 - department_output_accuracy: 0.7754 - department_output_loss: 0.3300 - loss: 0.4195 - val_attrition_output_accuracy: 0.8347 - val_attrition_output_loss: 0.5908 - val_department_output_accuracy: 0.5551 - val_department_output_loss: 0.5866 - val_loss: 1.2015\n",
            "Epoch 49/100\n",
            "\u001b[1m30/30\u001b[0m \u001b[32m━━━━━━━━━━━━━━━━━━━━\u001b[0m\u001b[37m\u001b[0m \u001b[1m0s\u001b[0m 939us/step - attrition_output_accuracy: 0.9762 - attrition_output_loss: 0.0946 - department_output_accuracy: 0.8168 - department_output_loss: 0.3073 - loss: 0.4019 - val_attrition_output_accuracy: 0.8347 - val_attrition_output_loss: 0.5918 - val_department_output_accuracy: 0.5720 - val_department_output_loss: 0.5943 - val_loss: 1.2119\n",
            "Epoch 50/100\n",
            "\u001b[1m30/30\u001b[0m \u001b[32m━━━━━━━━━━━━━━━━━━━━\u001b[0m\u001b[37m\u001b[0m \u001b[1m0s\u001b[0m 942us/step - attrition_output_accuracy: 0.9682 - attrition_output_loss: 0.1019 - department_output_accuracy: 0.7850 - department_output_loss: 0.3284 - loss: 0.4305 - val_attrition_output_accuracy: 0.8263 - val_attrition_output_loss: 0.6075 - val_department_output_accuracy: 0.5720 - val_department_output_loss: 0.5988 - val_loss: 1.2285\n",
            "Epoch 51/100\n",
            "\u001b[1m30/30\u001b[0m \u001b[32m━━━━━━━━━━━━━━━━━━━━\u001b[0m\u001b[37m\u001b[0m \u001b[1m0s\u001b[0m 964us/step - attrition_output_accuracy: 0.9660 - attrition_output_loss: 0.1013 - department_output_accuracy: 0.7983 - department_output_loss: 0.3114 - loss: 0.4121 - val_attrition_output_accuracy: 0.8347 - val_attrition_output_loss: 0.6322 - val_department_output_accuracy: 0.6186 - val_department_output_loss: 0.6274 - val_loss: 1.2858\n",
            "Epoch 52/100\n",
            "\u001b[1m30/30\u001b[0m \u001b[32m━━━━━━━━━━━━━━━━━━━━\u001b[0m\u001b[37m\u001b[0m \u001b[1m0s\u001b[0m 985us/step - attrition_output_accuracy: 0.9776 - attrition_output_loss: 0.0871 - department_output_accuracy: 0.7883 - department_output_loss: 0.3031 - loss: 0.3897 - val_attrition_output_accuracy: 0.8305 - val_attrition_output_loss: 0.6510 - val_department_output_accuracy: 0.5975 - val_department_output_loss: 0.6119 - val_loss: 1.2897\n",
            "Epoch 53/100\n",
            "\u001b[1m30/30\u001b[0m \u001b[32m━━━━━━━━━━━━━━━━━━━━\u001b[0m\u001b[37m\u001b[0m \u001b[1m0s\u001b[0m 2ms/step - attrition_output_accuracy: 0.9795 - attrition_output_loss: 0.0804 - department_output_accuracy: 0.7960 - department_output_loss: 0.2990 - loss: 0.3791 - val_attrition_output_accuracy: 0.8263 - val_attrition_output_loss: 0.6349 - val_department_output_accuracy: 0.5763 - val_department_output_loss: 0.6166 - val_loss: 1.2790\n",
            "Epoch 54/100\n",
            "\u001b[1m30/30\u001b[0m \u001b[32m━━━━━━━━━━━━━━━━━━━━\u001b[0m\u001b[37m\u001b[0m \u001b[1m0s\u001b[0m 953us/step - attrition_output_accuracy: 0.9801 - attrition_output_loss: 0.0806 - department_output_accuracy: 0.8002 - department_output_loss: 0.2973 - loss: 0.3781 - val_attrition_output_accuracy: 0.8220 - val_attrition_output_loss: 0.6339 - val_department_output_accuracy: 0.5678 - val_department_output_loss: 0.6236 - val_loss: 1.2893\n",
            "Epoch 55/100\n",
            "\u001b[1m30/30\u001b[0m \u001b[32m━━━━━━━━━━━━━━━━━━━━\u001b[0m\u001b[37m\u001b[0m \u001b[1m0s\u001b[0m 1ms/step - attrition_output_accuracy: 0.9779 - attrition_output_loss: 0.0781 - department_output_accuracy: 0.8245 - department_output_loss: 0.2982 - loss: 0.3765 - val_attrition_output_accuracy: 0.8305 - val_attrition_output_loss: 0.6790 - val_department_output_accuracy: 0.5932 - val_department_output_loss: 0.6455 - val_loss: 1.3571\n",
            "Epoch 56/100\n",
            "\u001b[1m30/30\u001b[0m \u001b[32m━━━━━━━━━━━━━━━━━━━━\u001b[0m\u001b[37m\u001b[0m \u001b[1m0s\u001b[0m 966us/step - attrition_output_accuracy: 0.9816 - attrition_output_loss: 0.0697 - department_output_accuracy: 0.7967 - department_output_loss: 0.2978 - loss: 0.3674 - val_attrition_output_accuracy: 0.8178 - val_attrition_output_loss: 0.6623 - val_department_output_accuracy: 0.5424 - val_department_output_loss: 0.6286 - val_loss: 1.3246\n",
            "Epoch 57/100\n",
            "\u001b[1m30/30\u001b[0m \u001b[32m━━━━━━━━━━━━━━━━━━━━\u001b[0m\u001b[37m\u001b[0m \u001b[1m0s\u001b[0m 962us/step - attrition_output_accuracy: 0.9849 - attrition_output_loss: 0.0662 - department_output_accuracy: 0.8363 - department_output_loss: 0.2727 - loss: 0.3387 - val_attrition_output_accuracy: 0.8178 - val_attrition_output_loss: 0.6656 - val_department_output_accuracy: 0.5678 - val_department_output_loss: 0.6517 - val_loss: 1.3478\n",
            "Epoch 58/100\n",
            "\u001b[1m30/30\u001b[0m \u001b[32m━━━━━━━━━━━━━━━━━━━━\u001b[0m\u001b[37m\u001b[0m \u001b[1m0s\u001b[0m 935us/step - attrition_output_accuracy: 0.9900 - attrition_output_loss: 0.0559 - department_output_accuracy: 0.8081 - department_output_loss: 0.2961 - loss: 0.3522 - val_attrition_output_accuracy: 0.8136 - val_attrition_output_loss: 0.7099 - val_department_output_accuracy: 0.5763 - val_department_output_loss: 0.6416 - val_loss: 1.3839\n",
            "Epoch 59/100\n",
            "\u001b[1m30/30\u001b[0m \u001b[32m━━━━━━━━━━━━━━━━━━━━\u001b[0m\u001b[37m\u001b[0m \u001b[1m0s\u001b[0m 921us/step - attrition_output_accuracy: 0.9804 - attrition_output_loss: 0.0627 - department_output_accuracy: 0.8287 - department_output_loss: 0.2780 - loss: 0.3410 - val_attrition_output_accuracy: 0.8178 - val_attrition_output_loss: 0.6957 - val_department_output_accuracy: 0.5678 - val_department_output_loss: 0.6609 - val_loss: 1.3865\n",
            "Epoch 60/100\n",
            "\u001b[1m30/30\u001b[0m \u001b[32m━━━━━━━━━━━━━━━━━━━━\u001b[0m\u001b[37m\u001b[0m \u001b[1m0s\u001b[0m 907us/step - attrition_output_accuracy: 0.9895 - attrition_output_loss: 0.0514 - department_output_accuracy: 0.8182 - department_output_loss: 0.2854 - loss: 0.3368 - val_attrition_output_accuracy: 0.8178 - val_attrition_output_loss: 0.7292 - val_department_output_accuracy: 0.5890 - val_department_output_loss: 0.6765 - val_loss: 1.4429\n",
            "Epoch 61/100\n",
            "\u001b[1m30/30\u001b[0m \u001b[32m━━━━━━━━━━━━━━━━━━━━\u001b[0m\u001b[37m\u001b[0m \u001b[1m0s\u001b[0m 930us/step - attrition_output_accuracy: 0.9889 - attrition_output_loss: 0.0463 - department_output_accuracy: 0.8157 - department_output_loss: 0.2987 - loss: 0.3450 - val_attrition_output_accuracy: 0.8136 - val_attrition_output_loss: 0.7186 - val_department_output_accuracy: 0.5551 - val_department_output_loss: 0.6512 - val_loss: 1.4047\n",
            "Epoch 62/100\n",
            "\u001b[1m30/30\u001b[0m \u001b[32m━━━━━━━━━━━━━━━━━━━━\u001b[0m\u001b[37m\u001b[0m \u001b[1m0s\u001b[0m 926us/step - attrition_output_accuracy: 0.9821 - attrition_output_loss: 0.0580 - department_output_accuracy: 0.8387 - department_output_loss: 0.2755 - loss: 0.3337 - val_attrition_output_accuracy: 0.8178 - val_attrition_output_loss: 0.7409 - val_department_output_accuracy: 0.5636 - val_department_output_loss: 0.6914 - val_loss: 1.4704\n",
            "Epoch 63/100\n",
            "\u001b[1m30/30\u001b[0m \u001b[32m━━━━━━━━━━━━━━━━━━━━\u001b[0m\u001b[37m\u001b[0m \u001b[1m0s\u001b[0m 950us/step - attrition_output_accuracy: 0.9914 - attrition_output_loss: 0.0424 - department_output_accuracy: 0.8209 - department_output_loss: 0.2914 - loss: 0.3336 - val_attrition_output_accuracy: 0.8178 - val_attrition_output_loss: 0.7472 - val_department_output_accuracy: 0.5297 - val_department_output_loss: 0.6745 - val_loss: 1.4533\n",
            "Epoch 64/100\n",
            "\u001b[1m30/30\u001b[0m \u001b[32m━━━━━━━━━━━━━━━━━━━━\u001b[0m\u001b[37m\u001b[0m \u001b[1m0s\u001b[0m 922us/step - attrition_output_accuracy: 0.9914 - attrition_output_loss: 0.0447 - department_output_accuracy: 0.8411 - department_output_loss: 0.2672 - loss: 0.3115 - val_attrition_output_accuracy: 0.8220 - val_attrition_output_loss: 0.7904 - val_department_output_accuracy: 0.5636 - val_department_output_loss: 0.6733 - val_loss: 1.5024\n",
            "Epoch 65/100\n",
            "\u001b[1m30/30\u001b[0m \u001b[32m━━━━━━━━━━━━━━━━━━━━\u001b[0m\u001b[37m\u001b[0m \u001b[1m0s\u001b[0m 938us/step - attrition_output_accuracy: 0.9918 - attrition_output_loss: 0.0404 - department_output_accuracy: 0.8556 - department_output_loss: 0.2515 - loss: 0.2920 - val_attrition_output_accuracy: 0.8093 - val_attrition_output_loss: 0.8272 - val_department_output_accuracy: 0.5466 - val_department_output_loss: 0.6687 - val_loss: 1.5283\n",
            "Epoch 66/100\n",
            "\u001b[1m30/30\u001b[0m \u001b[32m━━━━━━━━━━━━━━━━━━━━\u001b[0m\u001b[37m\u001b[0m \u001b[1m0s\u001b[0m 948us/step - attrition_output_accuracy: 0.9920 - attrition_output_loss: 0.0414 - department_output_accuracy: 0.8301 - department_output_loss: 0.2691 - loss: 0.3104 - val_attrition_output_accuracy: 0.8136 - val_attrition_output_loss: 0.7797 - val_department_output_accuracy: 0.5551 - val_department_output_loss: 0.6763 - val_loss: 1.5000\n",
            "Epoch 67/100\n",
            "\u001b[1m30/30\u001b[0m \u001b[32m━━━━━━━━━━━━━━━━━━━━\u001b[0m\u001b[37m\u001b[0m \u001b[1m0s\u001b[0m 936us/step - attrition_output_accuracy: 0.9962 - attrition_output_loss: 0.0384 - department_output_accuracy: 0.8518 - department_output_loss: 0.2553 - loss: 0.2935 - val_attrition_output_accuracy: 0.8220 - val_attrition_output_loss: 0.8025 - val_department_output_accuracy: 0.5720 - val_department_output_loss: 0.6948 - val_loss: 1.5354\n",
            "Epoch 68/100\n",
            "\u001b[1m30/30\u001b[0m \u001b[32m━━━━━━━━━━━━━━━━━━━━\u001b[0m\u001b[37m\u001b[0m \u001b[1m0s\u001b[0m 950us/step - attrition_output_accuracy: 0.9959 - attrition_output_loss: 0.0332 - department_output_accuracy: 0.8432 - department_output_loss: 0.2548 - loss: 0.2880 - val_attrition_output_accuracy: 0.8136 - val_attrition_output_loss: 0.8115 - val_department_output_accuracy: 0.5636 - val_department_output_loss: 0.6949 - val_loss: 1.5462\n",
            "Epoch 69/100\n",
            "\u001b[1m30/30\u001b[0m \u001b[32m━━━━━━━━━━━━━━━━━━━━\u001b[0m\u001b[37m\u001b[0m \u001b[1m0s\u001b[0m 944us/step - attrition_output_accuracy: 0.9948 - attrition_output_loss: 0.0362 - department_output_accuracy: 0.8532 - department_output_loss: 0.2514 - loss: 0.2875 - val_attrition_output_accuracy: 0.8305 - val_attrition_output_loss: 0.8139 - val_department_output_accuracy: 0.5763 - val_department_output_loss: 0.6917 - val_loss: 1.5466\n",
            "Epoch 70/100\n",
            "\u001b[1m30/30\u001b[0m \u001b[32m━━━━━━━━━━━━━━━━━━━━\u001b[0m\u001b[37m\u001b[0m \u001b[1m0s\u001b[0m 933us/step - attrition_output_accuracy: 0.9933 - attrition_output_loss: 0.0331 - department_output_accuracy: 0.8276 - department_output_loss: 0.2608 - loss: 0.2939 - val_attrition_output_accuracy: 0.8136 - val_attrition_output_loss: 0.8442 - val_department_output_accuracy: 0.5763 - val_department_output_loss: 0.7108 - val_loss: 1.6002\n",
            "Epoch 71/100\n",
            "\u001b[1m30/30\u001b[0m \u001b[32m━━━━━━━━━━━━━━━━━━━━\u001b[0m\u001b[37m\u001b[0m \u001b[1m0s\u001b[0m 2ms/step - attrition_output_accuracy: 0.9987 - attrition_output_loss: 0.0277 - department_output_accuracy: 0.8693 - department_output_loss: 0.2297 - loss: 0.2574 - val_attrition_output_accuracy: 0.8220 - val_attrition_output_loss: 0.8653 - val_department_output_accuracy: 0.5466 - val_department_output_loss: 0.7279 - val_loss: 1.6293\n",
            "Epoch 72/100\n",
            "\u001b[1m30/30\u001b[0m \u001b[32m━━━━━━━━━━━━━━━━━━━━\u001b[0m\u001b[37m\u001b[0m \u001b[1m0s\u001b[0m 1ms/step - attrition_output_accuracy: 0.9917 - attrition_output_loss: 0.0338 - department_output_accuracy: 0.8738 - department_output_loss: 0.2348 - loss: 0.2688 - val_attrition_output_accuracy: 0.8220 - val_attrition_output_loss: 0.8590 - val_department_output_accuracy: 0.5636 - val_department_output_loss: 0.7388 - val_loss: 1.6359\n",
            "Epoch 73/100\n",
            "\u001b[1m30/30\u001b[0m \u001b[32m━━━━━━━━━━━━━━━━━━━━\u001b[0m\u001b[37m\u001b[0m \u001b[1m0s\u001b[0m 985us/step - attrition_output_accuracy: 0.9961 - attrition_output_loss: 0.0292 - department_output_accuracy: 0.8704 - department_output_loss: 0.2252 - loss: 0.2546 - val_attrition_output_accuracy: 0.8220 - val_attrition_output_loss: 0.8897 - val_department_output_accuracy: 0.5636 - val_department_output_loss: 0.7496 - val_loss: 1.6850\n",
            "Epoch 74/100\n",
            "\u001b[1m30/30\u001b[0m \u001b[32m━━━━━━━━━━━━━━━━━━━━\u001b[0m\u001b[37m\u001b[0m \u001b[1m0s\u001b[0m 933us/step - attrition_output_accuracy: 0.9987 - attrition_output_loss: 0.0259 - department_output_accuracy: 0.8493 - department_output_loss: 0.2447 - loss: 0.2706 - val_attrition_output_accuracy: 0.8178 - val_attrition_output_loss: 0.8893 - val_department_output_accuracy: 0.5339 - val_department_output_loss: 0.7388 - val_loss: 1.6640\n",
            "Epoch 75/100\n",
            "\u001b[1m30/30\u001b[0m \u001b[32m━━━━━━━━━━━━━━━━━━━━\u001b[0m\u001b[37m\u001b[0m \u001b[1m0s\u001b[0m 951us/step - attrition_output_accuracy: 0.9966 - attrition_output_loss: 0.0271 - department_output_accuracy: 0.8566 - department_output_loss: 0.2291 - loss: 0.2564 - val_attrition_output_accuracy: 0.8178 - val_attrition_output_loss: 0.9051 - val_department_output_accuracy: 0.5678 - val_department_output_loss: 0.7608 - val_loss: 1.7017\n",
            "Epoch 76/100\n",
            "\u001b[1m30/30\u001b[0m \u001b[32m━━━━━━━━━━━━━━━━━━━━\u001b[0m\u001b[37m\u001b[0m \u001b[1m0s\u001b[0m 1ms/step - attrition_output_accuracy: 0.9992 - attrition_output_loss: 0.0205 - department_output_accuracy: 0.8761 - department_output_loss: 0.2185 - loss: 0.2389 - val_attrition_output_accuracy: 0.8220 - val_attrition_output_loss: 0.9303 - val_department_output_accuracy: 0.5551 - val_department_output_loss: 0.7586 - val_loss: 1.7263\n",
            "Epoch 77/100\n",
            "\u001b[1m30/30\u001b[0m \u001b[32m━━━━━━━━━━━━━━━━━━━━\u001b[0m\u001b[37m\u001b[0m \u001b[1m0s\u001b[0m 980us/step - attrition_output_accuracy: 0.9966 - attrition_output_loss: 0.0247 - department_output_accuracy: 0.8763 - department_output_loss: 0.2111 - loss: 0.2358 - val_attrition_output_accuracy: 0.8220 - val_attrition_output_loss: 0.9592 - val_department_output_accuracy: 0.5636 - val_department_output_loss: 0.7674 - val_loss: 1.7691\n",
            "Epoch 78/100\n",
            "\u001b[1m30/30\u001b[0m \u001b[32m━━━━━━━━━━━━━━━━━━━━\u001b[0m\u001b[37m\u001b[0m \u001b[1m0s\u001b[0m 967us/step - attrition_output_accuracy: 0.9964 - attrition_output_loss: 0.0210 - department_output_accuracy: 0.8833 - department_output_loss: 0.2206 - loss: 0.2415 - val_attrition_output_accuracy: 0.8220 - val_attrition_output_loss: 0.9698 - val_department_output_accuracy: 0.5339 - val_department_output_loss: 0.7707 - val_loss: 1.7750\n",
            "Epoch 79/100\n",
            "\u001b[1m30/30\u001b[0m \u001b[32m━━━━━━━━━━━━━━━━━━━━\u001b[0m\u001b[37m\u001b[0m \u001b[1m0s\u001b[0m 948us/step - attrition_output_accuracy: 0.9990 - attrition_output_loss: 0.0177 - department_output_accuracy: 0.8819 - department_output_loss: 0.2213 - loss: 0.2390 - val_attrition_output_accuracy: 0.8178 - val_attrition_output_loss: 0.9477 - val_department_output_accuracy: 0.5593 - val_department_output_loss: 0.7949 - val_loss: 1.7841\n",
            "Epoch 80/100\n",
            "\u001b[1m30/30\u001b[0m \u001b[32m━━━━━━━━━━━━━━━━━━━━\u001b[0m\u001b[37m\u001b[0m \u001b[1m0s\u001b[0m 937us/step - attrition_output_accuracy: 0.9972 - attrition_output_loss: 0.0227 - department_output_accuracy: 0.8922 - department_output_loss: 0.2025 - loss: 0.2251 - val_attrition_output_accuracy: 0.8220 - val_attrition_output_loss: 0.9776 - val_department_output_accuracy: 0.5678 - val_department_output_loss: 0.8037 - val_loss: 1.8178\n",
            "Epoch 81/100\n",
            "\u001b[1m30/30\u001b[0m \u001b[32m━━━━━━━━━━━━━━━━━━━━\u001b[0m\u001b[37m\u001b[0m \u001b[1m0s\u001b[0m 961us/step - attrition_output_accuracy: 0.9982 - attrition_output_loss: 0.0169 - department_output_accuracy: 0.9045 - department_output_loss: 0.1913 - loss: 0.2080 - val_attrition_output_accuracy: 0.8178 - val_attrition_output_loss: 0.9740 - val_department_output_accuracy: 0.5551 - val_department_output_loss: 0.8154 - val_loss: 1.8295\n",
            "Epoch 82/100\n",
            "\u001b[1m30/30\u001b[0m \u001b[32m━━━━━━━━━━━━━━━━━━━━\u001b[0m\u001b[37m\u001b[0m \u001b[1m0s\u001b[0m 957us/step - attrition_output_accuracy: 0.9984 - attrition_output_loss: 0.0169 - department_output_accuracy: 0.9094 - department_output_loss: 0.1839 - loss: 0.2007 - val_attrition_output_accuracy: 0.8136 - val_attrition_output_loss: 1.0166 - val_department_output_accuracy: 0.5508 - val_department_output_loss: 0.7993 - val_loss: 1.8525\n",
            "Epoch 83/100\n",
            "\u001b[1m30/30\u001b[0m \u001b[32m━━━━━━━━━━━━━━━━━━━━\u001b[0m\u001b[37m\u001b[0m \u001b[1m0s\u001b[0m 947us/step - attrition_output_accuracy: 0.9988 - attrition_output_loss: 0.0198 - department_output_accuracy: 0.8945 - department_output_loss: 0.1845 - loss: 0.2042 - val_attrition_output_accuracy: 0.8136 - val_attrition_output_loss: 1.0195 - val_department_output_accuracy: 0.5720 - val_department_output_loss: 0.8205 - val_loss: 1.8861\n",
            "Epoch 84/100\n",
            "\u001b[1m30/30\u001b[0m \u001b[32m━━━━━━━━━━━━━━━━━━━━\u001b[0m\u001b[37m\u001b[0m \u001b[1m0s\u001b[0m 944us/step - attrition_output_accuracy: 0.9979 - attrition_output_loss: 0.0150 - department_output_accuracy: 0.9008 - department_output_loss: 0.1948 - loss: 0.2098 - val_attrition_output_accuracy: 0.8136 - val_attrition_output_loss: 1.0701 - val_department_output_accuracy: 0.5636 - val_department_output_loss: 0.8117 - val_loss: 1.9228\n",
            "Epoch 85/100\n",
            "\u001b[1m30/30\u001b[0m \u001b[32m━━━━━━━━━━━━━━━━━━━━\u001b[0m\u001b[37m\u001b[0m \u001b[1m0s\u001b[0m 937us/step - attrition_output_accuracy: 0.9998 - attrition_output_loss: 0.0145 - department_output_accuracy: 0.8905 - department_output_loss: 0.2001 - loss: 0.2146 - val_attrition_output_accuracy: 0.8093 - val_attrition_output_loss: 1.0472 - val_department_output_accuracy: 0.5508 - val_department_output_loss: 0.8287 - val_loss: 1.9220\n",
            "Epoch 86/100\n",
            "\u001b[1m30/30\u001b[0m \u001b[32m━━━━━━━━━━━━━━━━━━━━\u001b[0m\u001b[37m\u001b[0m \u001b[1m0s\u001b[0m 913us/step - attrition_output_accuracy: 0.9983 - attrition_output_loss: 0.0142 - department_output_accuracy: 0.9131 - department_output_loss: 0.1768 - loss: 0.1911 - val_attrition_output_accuracy: 0.8178 - val_attrition_output_loss: 1.0480 - val_department_output_accuracy: 0.5636 - val_department_output_loss: 0.8538 - val_loss: 1.9443\n",
            "Epoch 87/100\n",
            "\u001b[1m30/30\u001b[0m \u001b[32m━━━━━━━━━━━━━━━━━━━━\u001b[0m\u001b[37m\u001b[0m \u001b[1m0s\u001b[0m 2ms/step - attrition_output_accuracy: 0.9997 - attrition_output_loss: 0.0138 - department_output_accuracy: 0.9010 - department_output_loss: 0.1914 - loss: 0.2051 - val_attrition_output_accuracy: 0.8178 - val_attrition_output_loss: 1.0903 - val_department_output_accuracy: 0.5593 - val_department_output_loss: 0.8564 - val_loss: 1.9883\n",
            "Epoch 88/100\n",
            "\u001b[1m30/30\u001b[0m \u001b[32m━━━━━━━━━━━━━━━━━━━━\u001b[0m\u001b[37m\u001b[0m \u001b[1m0s\u001b[0m 942us/step - attrition_output_accuracy: 0.9990 - attrition_output_loss: 0.0141 - department_output_accuracy: 0.9020 - department_output_loss: 0.1752 - loss: 0.1892 - val_attrition_output_accuracy: 0.8220 - val_attrition_output_loss: 1.1315 - val_department_output_accuracy: 0.5593 - val_department_output_loss: 0.8434 - val_loss: 2.0137\n",
            "Epoch 89/100\n",
            "\u001b[1m30/30\u001b[0m \u001b[32m━━━━━━━━━━━━━━━━━━━━\u001b[0m\u001b[37m\u001b[0m \u001b[1m0s\u001b[0m 916us/step - attrition_output_accuracy: 0.9978 - attrition_output_loss: 0.0126 - department_output_accuracy: 0.9035 - department_output_loss: 0.1723 - loss: 0.1850 - val_attrition_output_accuracy: 0.8051 - val_attrition_output_loss: 1.1576 - val_department_output_accuracy: 0.5551 - val_department_output_loss: 0.8748 - val_loss: 2.0722\n",
            "Epoch 90/100\n",
            "\u001b[1m30/30\u001b[0m \u001b[32m━━━━━━━━━━━━━━━━━━━━\u001b[0m\u001b[37m\u001b[0m \u001b[1m0s\u001b[0m 929us/step - attrition_output_accuracy: 0.9998 - attrition_output_loss: 0.0108 - department_output_accuracy: 0.9100 - department_output_loss: 0.1718 - loss: 0.1827 - val_attrition_output_accuracy: 0.8136 - val_attrition_output_loss: 1.1491 - val_department_output_accuracy: 0.5466 - val_department_output_loss: 0.8767 - val_loss: 2.0621\n",
            "Epoch 91/100\n",
            "\u001b[1m30/30\u001b[0m \u001b[32m━━━━━━━━━━━━━━━━━━━━\u001b[0m\u001b[37m\u001b[0m \u001b[1m0s\u001b[0m 912us/step - attrition_output_accuracy: 0.9978 - attrition_output_loss: 0.0108 - department_output_accuracy: 0.9274 - department_output_loss: 0.1580 - loss: 0.1688 - val_attrition_output_accuracy: 0.8093 - val_attrition_output_loss: 1.1280 - val_department_output_accuracy: 0.5551 - val_department_output_loss: 0.8765 - val_loss: 2.0575\n",
            "Epoch 92/100\n",
            "\u001b[1m30/30\u001b[0m \u001b[32m━━━━━━━━━━━━━━━━━━━━\u001b[0m\u001b[37m\u001b[0m \u001b[1m0s\u001b[0m 1ms/step - attrition_output_accuracy: 0.9998 - attrition_output_loss: 0.0103 - department_output_accuracy: 0.9177 - department_output_loss: 0.1601 - loss: 0.1705 - val_attrition_output_accuracy: 0.8093 - val_attrition_output_loss: 1.2020 - val_department_output_accuracy: 0.5551 - val_department_output_loss: 0.8808 - val_loss: 2.1226\n",
            "Epoch 93/100\n",
            "\u001b[1m30/30\u001b[0m \u001b[32m━━━━━━━━━━━━━━━━━━━━\u001b[0m\u001b[37m\u001b[0m \u001b[1m0s\u001b[0m 910us/step - attrition_output_accuracy: 0.9995 - attrition_output_loss: 0.0119 - department_output_accuracy: 0.9116 - department_output_loss: 0.1720 - loss: 0.1838 - val_attrition_output_accuracy: 0.8093 - val_attrition_output_loss: 1.1340 - val_department_output_accuracy: 0.5508 - val_department_output_loss: 0.9003 - val_loss: 2.0827\n",
            "Epoch 94/100\n",
            "\u001b[1m30/30\u001b[0m \u001b[32m━━━━━━━━━━━━━━━━━━━━\u001b[0m\u001b[37m\u001b[0m \u001b[1m0s\u001b[0m 923us/step - attrition_output_accuracy: 0.9991 - attrition_output_loss: 0.0112 - department_output_accuracy: 0.9333 - department_output_loss: 0.1449 - loss: 0.1562 - val_attrition_output_accuracy: 0.8136 - val_attrition_output_loss: 1.1928 - val_department_output_accuracy: 0.5508 - val_department_output_loss: 0.9269 - val_loss: 2.1686\n",
            "Epoch 95/100\n",
            "\u001b[1m30/30\u001b[0m \u001b[32m━━━━━━━━━━━━━━━━━━━━\u001b[0m\u001b[37m\u001b[0m \u001b[1m0s\u001b[0m 924us/step - attrition_output_accuracy: 0.9988 - attrition_output_loss: 0.0097 - department_output_accuracy: 0.9269 - department_output_loss: 0.1572 - loss: 0.1670 - val_attrition_output_accuracy: 0.8136 - val_attrition_output_loss: 1.1992 - val_department_output_accuracy: 0.5424 - val_department_output_loss: 0.9173 - val_loss: 2.1648\n",
            "Epoch 96/100\n",
            "\u001b[1m30/30\u001b[0m \u001b[32m━━━━━━━━━━━━━━━━━━━━\u001b[0m\u001b[37m\u001b[0m \u001b[1m0s\u001b[0m 960us/step - attrition_output_accuracy: 1.0000 - attrition_output_loss: 0.0103 - department_output_accuracy: 0.9284 - department_output_loss: 0.1574 - loss: 0.1677 - val_attrition_output_accuracy: 0.8008 - val_attrition_output_loss: 1.1845 - val_department_output_accuracy: 0.5466 - val_department_output_loss: 0.9264 - val_loss: 2.1599\n",
            "Epoch 97/100\n",
            "\u001b[1m30/30\u001b[0m \u001b[32m━━━━━━━━━━━━━━━━━━━━\u001b[0m\u001b[37m\u001b[0m \u001b[1m0s\u001b[0m 983us/step - attrition_output_accuracy: 1.0000 - attrition_output_loss: 0.0117 - department_output_accuracy: 0.9402 - department_output_loss: 0.1406 - loss: 0.1522 - val_attrition_output_accuracy: 0.8008 - val_attrition_output_loss: 1.1894 - val_department_output_accuracy: 0.5636 - val_department_output_loss: 0.9116 - val_loss: 2.1467\n",
            "Epoch 98/100\n",
            "\u001b[1m30/30\u001b[0m \u001b[32m━━━━━━━━━━━━━━━━━━━━\u001b[0m\u001b[37m\u001b[0m \u001b[1m0s\u001b[0m 976us/step - attrition_output_accuracy: 1.0000 - attrition_output_loss: 0.0111 - department_output_accuracy: 0.9129 - department_output_loss: 0.1572 - loss: 0.1681 - val_attrition_output_accuracy: 0.8093 - val_attrition_output_loss: 1.2320 - val_department_output_accuracy: 0.5466 - val_department_output_loss: 0.9589 - val_loss: 2.2343\n",
            "Epoch 99/100\n",
            "\u001b[1m30/30\u001b[0m \u001b[32m━━━━━━━━━━━━━━━━━━━━\u001b[0m\u001b[37m\u001b[0m \u001b[1m0s\u001b[0m 969us/step - attrition_output_accuracy: 0.9988 - attrition_output_loss: 0.0085 - department_output_accuracy: 0.9375 - department_output_loss: 0.1410 - loss: 0.1494 - val_attrition_output_accuracy: 0.7966 - val_attrition_output_loss: 1.2926 - val_department_output_accuracy: 0.5424 - val_department_output_loss: 0.9581 - val_loss: 2.2938\n",
            "Epoch 100/100\n",
            "\u001b[1m30/30\u001b[0m \u001b[32m━━━━━━━━━━━━━━━━━━━━\u001b[0m\u001b[37m\u001b[0m \u001b[1m0s\u001b[0m 943us/step - attrition_output_accuracy: 0.9997 - attrition_output_loss: 0.0097 - department_output_accuracy: 0.9321 - department_output_loss: 0.1457 - loss: 0.1554 - val_attrition_output_accuracy: 0.7966 - val_attrition_output_loss: 1.2445 - val_department_output_accuracy: 0.5424 - val_department_output_loss: 0.9548 - val_loss: 2.2538\n"
          ]
        }
      ],
      "source": [
        "# Train the model\n",
        "history = model.fit(X_train_scaled, \n",
        "                    [y_train_department_encoded, y_train_attrition_encoded],\n",
        "                    epochs=100,\n",
        "                    batch_size=32,\n",
        "                    validation_split=0.2,\n",
        "                    verbose=1)\n"
      ]
    },
    {
      "cell_type": "code",
      "execution_count": 18,
      "metadata": {
        "colab": {
          "base_uri": "https://localhost:8080/"
        },
        "id": "VsMoaQlgGc3U",
        "outputId": "1bd4e601-e964-4abc-ad83-aeecf6b696be"
      },
      "outputs": [
        {
          "name": "stdout",
          "output_type": "stream",
          "text": [
            "\u001b[1m10/10\u001b[0m \u001b[32m━━━━━━━━━━━━━━━━━━━━\u001b[0m\u001b[37m\u001b[0m \u001b[1m0s\u001b[0m 600us/step - attrition_output_accuracy: 0.8256 - attrition_output_loss: 1.0314 - department_output_accuracy: 0.5612 - department_output_loss: 0.9951 - loss: 2.0477\n"
          ]
        }
      ],
      "source": [
        "# Evaluate the model with the testing data\n",
        "evaluation = model.evaluate(X_test_scaled, \n",
        "                            [y_test_department_encoded, y_test_attrition_encoded], return_dict=True)\n",
        "\n",
        "\n"
      ]
    },
    {
      "cell_type": "code",
      "execution_count": 19,
      "metadata": {},
      "outputs": [
        {
          "name": "stdout",
          "output_type": "stream",
          "text": [
            "{'attrition_output_accuracy': 0.8299319744110107, 'attrition_output_loss': 1.0353758335113525, 'department_output_accuracy': 0.5782312750816345, 'department_output_loss': 0.8733744621276855, 'loss': 2.0254125595092773}\n"
          ]
        }
      ],
      "source": [
        "print(evaluation)"
      ]
    },
    {
      "cell_type": "code",
      "execution_count": 20,
      "metadata": {
        "colab": {
          "base_uri": "https://localhost:8080/"
        },
        "id": "ZlCtlHi0Vt54",
        "outputId": "bc21ef3e-80c2-4b38-9c29-79515bc23dec"
      },
      "outputs": [
        {
          "name": "stdout",
          "output_type": "stream",
          "text": [
            "Department Accuracy: 57.82%\n",
            "Attrition Accuracy: 82.99%\n",
            "Department Loss: 0.8734\n",
            "Attrition Loss: 1.0354\n",
            "Overall Loss: 2.0254\n"
          ]
        }
      ],
      "source": [
        "# Print the accuracy for both department and attrition\n",
        "print(f\"Department Accuracy: {evaluation['department_output_accuracy']* 100:.2f}%\")\n",
        "print(f\"Attrition Accuracy: {evaluation['attrition_output_accuracy'] * 100:.2f}%\")\n",
        "\n",
        "# Print the loss for both department and attrition\n",
        "print(f\"Department Loss: {evaluation['department_output_loss']:.4f}\")\n",
        "print(f\"Attrition Loss: {evaluation['attrition_output_loss']:.4f}\")\n",
        "\n",
        "# Print the overall loss\n",
        "print(f\"Overall Loss: {evaluation['loss']:.4f}\")"
      ]
    },
    {
      "cell_type": "markdown",
      "metadata": {
        "id": "eGSyfsZfWOQM"
      },
      "source": [
        "## Summary\n",
        "\n",
        "### 1. Is accuracy the best metric to use on this data? Why or why not?\n",
        "\n",
        "### Accuracy might not be the best metric to use on this data, especially if the classes are imbalanced. In such cases, metrics like precision, recall, or F1-score could provide more insight into the model's performance.\n",
        "\n",
        "### 2. What activation functions did you choose for your output layers, and why?\n",
        "\n",
        "### For the department output layer, I chose the softmax activation function because it is suitable for multi-class classification problems. For the attrition output layer, I used the sigmoid activation function as it is appropriate for binary classification tasks.\n",
        "\n",
        "### 3. Can you name a few ways that this model might be improved?\n",
        "\n",
        "### The model might be improved by:\n",
        "### - Tuning hyperparameters such as learning rate, batch size, and number of epochs.\n",
        "### - Using more advanced architectures or adding more layers to the neural network.\n",
        "### - Implementing regularization techniques like dropout to prevent overfitting.\n",
        "### - Collecting more data or performing data augmentation to increase the dataset size."
      ]
    }
  ],
  "metadata": {
    "colab": {
      "provenance": []
    },
    "kernelspec": {
      "display_name": "Python 3",
      "language": "python",
      "name": "python3"
    },
    "language_info": {
      "codemirror_mode": {
        "name": "ipython",
        "version": 3
      },
      "file_extension": ".py",
      "mimetype": "text/x-python",
      "name": "python",
      "nbconvert_exporter": "python",
      "pygments_lexer": "ipython3",
      "version": "3.10.14"
    },
    "vscode": {
      "interpreter": {
        "hash": "31f2aee4e71d21fbe5cf8b01ff0e069b9275f58929596ceb00d14d90e3e16cd6"
      }
    }
  },
  "nbformat": 4,
  "nbformat_minor": 0
}
